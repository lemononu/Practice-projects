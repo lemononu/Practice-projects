{
 "cells": [
  {
   "cell_type": "code",
   "execution_count": 1,
   "id": "db2cdc28",
   "metadata": {},
   "outputs": [],
   "source": [
    "# IMPORT REQUIRED LIBRARIES\n",
    "import numpy as np\n",
    "import pandas as pd\n",
    "import seaborn as sns\n",
    "import matplotlib.pyplot as plt\n",
    "from scipy.stats import skew\n",
    "from sklearn.preprocessing import power_transform\n",
    "from sklearn.preprocessing import LabelEncoder\n",
    "from statsmodels.stats.outliers_influence import variance_inflation_factor\n",
    "from sklearn.model_selection import train_test_split\n",
    "from sklearn.linear_model import LogisticRegression\n",
    "from sklearn.ensemble import RandomForestClassifier\n",
    "from sklearn.svm import SVC\n",
    "from sklearn.metrics import accuracy_score\n",
    "from sklearn.metrics import confusion_matrix,classification_report\n",
    "from sklearn.model_selection import cross_val_score\n",
    "from sklearn.model_selection import GridSearchCV\n",
    "import warnings\n",
    "warnings.filterwarnings('ignore')\n"
   ]
  },
  {
   "cell_type": "code",
   "execution_count": 2,
   "id": "ae56b62f",
   "metadata": {},
   "outputs": [
    {
     "data": {
      "text/html": [
       "<div>\n",
       "<style scoped>\n",
       "    .dataframe tbody tr th:only-of-type {\n",
       "        vertical-align: middle;\n",
       "    }\n",
       "\n",
       "    .dataframe tbody tr th {\n",
       "        vertical-align: top;\n",
       "    }\n",
       "\n",
       "    .dataframe thead th {\n",
       "        text-align: right;\n",
       "    }\n",
       "</style>\n",
       "<table border=\"1\" class=\"dataframe\">\n",
       "  <thead>\n",
       "    <tr style=\"text-align: right;\">\n",
       "      <th></th>\n",
       "      <th>Sex</th>\n",
       "      <th>Length</th>\n",
       "      <th>Diameter</th>\n",
       "      <th>Height</th>\n",
       "      <th>Whole weight</th>\n",
       "      <th>Shucked weight</th>\n",
       "      <th>Viscera weight</th>\n",
       "      <th>Shell weight</th>\n",
       "      <th>Rings</th>\n",
       "    </tr>\n",
       "  </thead>\n",
       "  <tbody>\n",
       "    <tr>\n",
       "      <th>0</th>\n",
       "      <td>M</td>\n",
       "      <td>0.455</td>\n",
       "      <td>0.365</td>\n",
       "      <td>0.095</td>\n",
       "      <td>0.5140</td>\n",
       "      <td>0.2245</td>\n",
       "      <td>0.1010</td>\n",
       "      <td>0.1500</td>\n",
       "      <td>15</td>\n",
       "    </tr>\n",
       "    <tr>\n",
       "      <th>1</th>\n",
       "      <td>M</td>\n",
       "      <td>0.350</td>\n",
       "      <td>0.265</td>\n",
       "      <td>0.090</td>\n",
       "      <td>0.2255</td>\n",
       "      <td>0.0995</td>\n",
       "      <td>0.0485</td>\n",
       "      <td>0.0700</td>\n",
       "      <td>7</td>\n",
       "    </tr>\n",
       "    <tr>\n",
       "      <th>2</th>\n",
       "      <td>F</td>\n",
       "      <td>0.530</td>\n",
       "      <td>0.420</td>\n",
       "      <td>0.135</td>\n",
       "      <td>0.6770</td>\n",
       "      <td>0.2565</td>\n",
       "      <td>0.1415</td>\n",
       "      <td>0.2100</td>\n",
       "      <td>9</td>\n",
       "    </tr>\n",
       "    <tr>\n",
       "      <th>3</th>\n",
       "      <td>M</td>\n",
       "      <td>0.440</td>\n",
       "      <td>0.365</td>\n",
       "      <td>0.125</td>\n",
       "      <td>0.5160</td>\n",
       "      <td>0.2155</td>\n",
       "      <td>0.1140</td>\n",
       "      <td>0.1550</td>\n",
       "      <td>10</td>\n",
       "    </tr>\n",
       "    <tr>\n",
       "      <th>4</th>\n",
       "      <td>I</td>\n",
       "      <td>0.330</td>\n",
       "      <td>0.255</td>\n",
       "      <td>0.080</td>\n",
       "      <td>0.2050</td>\n",
       "      <td>0.0895</td>\n",
       "      <td>0.0395</td>\n",
       "      <td>0.0550</td>\n",
       "      <td>7</td>\n",
       "    </tr>\n",
       "    <tr>\n",
       "      <th>...</th>\n",
       "      <td>...</td>\n",
       "      <td>...</td>\n",
       "      <td>...</td>\n",
       "      <td>...</td>\n",
       "      <td>...</td>\n",
       "      <td>...</td>\n",
       "      <td>...</td>\n",
       "      <td>...</td>\n",
       "      <td>...</td>\n",
       "    </tr>\n",
       "    <tr>\n",
       "      <th>4172</th>\n",
       "      <td>F</td>\n",
       "      <td>0.565</td>\n",
       "      <td>0.450</td>\n",
       "      <td>0.165</td>\n",
       "      <td>0.8870</td>\n",
       "      <td>0.3700</td>\n",
       "      <td>0.2390</td>\n",
       "      <td>0.2490</td>\n",
       "      <td>11</td>\n",
       "    </tr>\n",
       "    <tr>\n",
       "      <th>4173</th>\n",
       "      <td>M</td>\n",
       "      <td>0.590</td>\n",
       "      <td>0.440</td>\n",
       "      <td>0.135</td>\n",
       "      <td>0.9660</td>\n",
       "      <td>0.4390</td>\n",
       "      <td>0.2145</td>\n",
       "      <td>0.2605</td>\n",
       "      <td>10</td>\n",
       "    </tr>\n",
       "    <tr>\n",
       "      <th>4174</th>\n",
       "      <td>M</td>\n",
       "      <td>0.600</td>\n",
       "      <td>0.475</td>\n",
       "      <td>0.205</td>\n",
       "      <td>1.1760</td>\n",
       "      <td>0.5255</td>\n",
       "      <td>0.2875</td>\n",
       "      <td>0.3080</td>\n",
       "      <td>9</td>\n",
       "    </tr>\n",
       "    <tr>\n",
       "      <th>4175</th>\n",
       "      <td>F</td>\n",
       "      <td>0.625</td>\n",
       "      <td>0.485</td>\n",
       "      <td>0.150</td>\n",
       "      <td>1.0945</td>\n",
       "      <td>0.5310</td>\n",
       "      <td>0.2610</td>\n",
       "      <td>0.2960</td>\n",
       "      <td>10</td>\n",
       "    </tr>\n",
       "    <tr>\n",
       "      <th>4176</th>\n",
       "      <td>M</td>\n",
       "      <td>0.710</td>\n",
       "      <td>0.555</td>\n",
       "      <td>0.195</td>\n",
       "      <td>1.9485</td>\n",
       "      <td>0.9455</td>\n",
       "      <td>0.3765</td>\n",
       "      <td>0.4950</td>\n",
       "      <td>12</td>\n",
       "    </tr>\n",
       "  </tbody>\n",
       "</table>\n",
       "<p>4177 rows × 9 columns</p>\n",
       "</div>"
      ],
      "text/plain": [
       "     Sex  Length  Diameter  Height  Whole weight  Shucked weight  \\\n",
       "0      M   0.455     0.365   0.095        0.5140          0.2245   \n",
       "1      M   0.350     0.265   0.090        0.2255          0.0995   \n",
       "2      F   0.530     0.420   0.135        0.6770          0.2565   \n",
       "3      M   0.440     0.365   0.125        0.5160          0.2155   \n",
       "4      I   0.330     0.255   0.080        0.2050          0.0895   \n",
       "...   ..     ...       ...     ...           ...             ...   \n",
       "4172   F   0.565     0.450   0.165        0.8870          0.3700   \n",
       "4173   M   0.590     0.440   0.135        0.9660          0.4390   \n",
       "4174   M   0.600     0.475   0.205        1.1760          0.5255   \n",
       "4175   F   0.625     0.485   0.150        1.0945          0.5310   \n",
       "4176   M   0.710     0.555   0.195        1.9485          0.9455   \n",
       "\n",
       "      Viscera weight  Shell weight  Rings  \n",
       "0             0.1010        0.1500     15  \n",
       "1             0.0485        0.0700      7  \n",
       "2             0.1415        0.2100      9  \n",
       "3             0.1140        0.1550     10  \n",
       "4             0.0395        0.0550      7  \n",
       "...              ...           ...    ...  \n",
       "4172          0.2390        0.2490     11  \n",
       "4173          0.2145        0.2605     10  \n",
       "4174          0.2875        0.3080      9  \n",
       "4175          0.2610        0.2960     10  \n",
       "4176          0.3765        0.4950     12  \n",
       "\n",
       "[4177 rows x 9 columns]"
      ]
     },
     "execution_count": 2,
     "metadata": {},
     "output_type": "execute_result"
    }
   ],
   "source": [
    "# LOADING THE DATASET\n",
    "df=pd.read_csv('abalone.csv')\n",
    "df"
   ]
  },
  {
   "cell_type": "code",
   "execution_count": 3,
   "id": "97618c6b",
   "metadata": {},
   "outputs": [
    {
     "data": {
      "text/html": [
       "<div>\n",
       "<style scoped>\n",
       "    .dataframe tbody tr th:only-of-type {\n",
       "        vertical-align: middle;\n",
       "    }\n",
       "\n",
       "    .dataframe tbody tr th {\n",
       "        vertical-align: top;\n",
       "    }\n",
       "\n",
       "    .dataframe thead th {\n",
       "        text-align: right;\n",
       "    }\n",
       "</style>\n",
       "<table border=\"1\" class=\"dataframe\">\n",
       "  <thead>\n",
       "    <tr style=\"text-align: right;\">\n",
       "      <th></th>\n",
       "      <th>Sex</th>\n",
       "      <th>Length</th>\n",
       "      <th>Diameter</th>\n",
       "      <th>Height</th>\n",
       "      <th>Whole weight</th>\n",
       "      <th>Shucked weight</th>\n",
       "      <th>Viscera weight</th>\n",
       "      <th>Shell weight</th>\n",
       "      <th>Rings</th>\n",
       "    </tr>\n",
       "  </thead>\n",
       "  <tbody>\n",
       "    <tr>\n",
       "      <th>0</th>\n",
       "      <td>M</td>\n",
       "      <td>0.455</td>\n",
       "      <td>0.365</td>\n",
       "      <td>0.095</td>\n",
       "      <td>0.5140</td>\n",
       "      <td>0.2245</td>\n",
       "      <td>0.1010</td>\n",
       "      <td>0.150</td>\n",
       "      <td>15</td>\n",
       "    </tr>\n",
       "    <tr>\n",
       "      <th>1</th>\n",
       "      <td>M</td>\n",
       "      <td>0.350</td>\n",
       "      <td>0.265</td>\n",
       "      <td>0.090</td>\n",
       "      <td>0.2255</td>\n",
       "      <td>0.0995</td>\n",
       "      <td>0.0485</td>\n",
       "      <td>0.070</td>\n",
       "      <td>7</td>\n",
       "    </tr>\n",
       "    <tr>\n",
       "      <th>2</th>\n",
       "      <td>F</td>\n",
       "      <td>0.530</td>\n",
       "      <td>0.420</td>\n",
       "      <td>0.135</td>\n",
       "      <td>0.6770</td>\n",
       "      <td>0.2565</td>\n",
       "      <td>0.1415</td>\n",
       "      <td>0.210</td>\n",
       "      <td>9</td>\n",
       "    </tr>\n",
       "    <tr>\n",
       "      <th>3</th>\n",
       "      <td>M</td>\n",
       "      <td>0.440</td>\n",
       "      <td>0.365</td>\n",
       "      <td>0.125</td>\n",
       "      <td>0.5160</td>\n",
       "      <td>0.2155</td>\n",
       "      <td>0.1140</td>\n",
       "      <td>0.155</td>\n",
       "      <td>10</td>\n",
       "    </tr>\n",
       "    <tr>\n",
       "      <th>4</th>\n",
       "      <td>I</td>\n",
       "      <td>0.330</td>\n",
       "      <td>0.255</td>\n",
       "      <td>0.080</td>\n",
       "      <td>0.2050</td>\n",
       "      <td>0.0895</td>\n",
       "      <td>0.0395</td>\n",
       "      <td>0.055</td>\n",
       "      <td>7</td>\n",
       "    </tr>\n",
       "  </tbody>\n",
       "</table>\n",
       "</div>"
      ],
      "text/plain": [
       "  Sex  Length  Diameter  Height  Whole weight  Shucked weight  Viscera weight  \\\n",
       "0   M   0.455     0.365   0.095        0.5140          0.2245          0.1010   \n",
       "1   M   0.350     0.265   0.090        0.2255          0.0995          0.0485   \n",
       "2   F   0.530     0.420   0.135        0.6770          0.2565          0.1415   \n",
       "3   M   0.440     0.365   0.125        0.5160          0.2155          0.1140   \n",
       "4   I   0.330     0.255   0.080        0.2050          0.0895          0.0395   \n",
       "\n",
       "   Shell weight  Rings  \n",
       "0         0.150     15  \n",
       "1         0.070      7  \n",
       "2         0.210      9  \n",
       "3         0.155     10  \n",
       "4         0.055      7  "
      ]
     },
     "execution_count": 3,
     "metadata": {},
     "output_type": "execute_result"
    }
   ],
   "source": [
    "df.head(5)"
   ]
  },
  {
   "cell_type": "code",
   "execution_count": 4,
   "id": "c3f35fa0",
   "metadata": {},
   "outputs": [
    {
     "data": {
      "text/plain": [
       "(4177, 9)"
      ]
     },
     "execution_count": 4,
     "metadata": {},
     "output_type": "execute_result"
    }
   ],
   "source": [
    "df.shape"
   ]
  },
  {
   "cell_type": "markdown",
   "id": "5bf3dc7f",
   "metadata": {},
   "source": [
    "we have 4177 rows and 9 columns including tha target"
   ]
  },
  {
   "cell_type": "code",
   "execution_count": 5,
   "id": "b0023951",
   "metadata": {},
   "outputs": [
    {
     "data": {
      "text/html": [
       "<div>\n",
       "<style scoped>\n",
       "    .dataframe tbody tr th:only-of-type {\n",
       "        vertical-align: middle;\n",
       "    }\n",
       "\n",
       "    .dataframe tbody tr th {\n",
       "        vertical-align: top;\n",
       "    }\n",
       "\n",
       "    .dataframe thead th {\n",
       "        text-align: right;\n",
       "    }\n",
       "</style>\n",
       "<table border=\"1\" class=\"dataframe\">\n",
       "  <thead>\n",
       "    <tr style=\"text-align: right;\">\n",
       "      <th></th>\n",
       "      <th>Length</th>\n",
       "      <th>Diameter</th>\n",
       "      <th>Height</th>\n",
       "      <th>Whole weight</th>\n",
       "      <th>Shucked weight</th>\n",
       "      <th>Viscera weight</th>\n",
       "      <th>Shell weight</th>\n",
       "      <th>Rings</th>\n",
       "    </tr>\n",
       "  </thead>\n",
       "  <tbody>\n",
       "    <tr>\n",
       "      <th>count</th>\n",
       "      <td>4177.000000</td>\n",
       "      <td>4177.000000</td>\n",
       "      <td>4177.000000</td>\n",
       "      <td>4177.000000</td>\n",
       "      <td>4177.000000</td>\n",
       "      <td>4177.000000</td>\n",
       "      <td>4177.000000</td>\n",
       "      <td>4177.000000</td>\n",
       "    </tr>\n",
       "    <tr>\n",
       "      <th>mean</th>\n",
       "      <td>0.523992</td>\n",
       "      <td>0.407881</td>\n",
       "      <td>0.139516</td>\n",
       "      <td>0.828742</td>\n",
       "      <td>0.359367</td>\n",
       "      <td>0.180594</td>\n",
       "      <td>0.238831</td>\n",
       "      <td>9.933684</td>\n",
       "    </tr>\n",
       "    <tr>\n",
       "      <th>std</th>\n",
       "      <td>0.120093</td>\n",
       "      <td>0.099240</td>\n",
       "      <td>0.041827</td>\n",
       "      <td>0.490389</td>\n",
       "      <td>0.221963</td>\n",
       "      <td>0.109614</td>\n",
       "      <td>0.139203</td>\n",
       "      <td>3.224169</td>\n",
       "    </tr>\n",
       "    <tr>\n",
       "      <th>min</th>\n",
       "      <td>0.075000</td>\n",
       "      <td>0.055000</td>\n",
       "      <td>0.000000</td>\n",
       "      <td>0.002000</td>\n",
       "      <td>0.001000</td>\n",
       "      <td>0.000500</td>\n",
       "      <td>0.001500</td>\n",
       "      <td>1.000000</td>\n",
       "    </tr>\n",
       "    <tr>\n",
       "      <th>25%</th>\n",
       "      <td>0.450000</td>\n",
       "      <td>0.350000</td>\n",
       "      <td>0.115000</td>\n",
       "      <td>0.441500</td>\n",
       "      <td>0.186000</td>\n",
       "      <td>0.093500</td>\n",
       "      <td>0.130000</td>\n",
       "      <td>8.000000</td>\n",
       "    </tr>\n",
       "    <tr>\n",
       "      <th>50%</th>\n",
       "      <td>0.545000</td>\n",
       "      <td>0.425000</td>\n",
       "      <td>0.140000</td>\n",
       "      <td>0.799500</td>\n",
       "      <td>0.336000</td>\n",
       "      <td>0.171000</td>\n",
       "      <td>0.234000</td>\n",
       "      <td>9.000000</td>\n",
       "    </tr>\n",
       "    <tr>\n",
       "      <th>75%</th>\n",
       "      <td>0.615000</td>\n",
       "      <td>0.480000</td>\n",
       "      <td>0.165000</td>\n",
       "      <td>1.153000</td>\n",
       "      <td>0.502000</td>\n",
       "      <td>0.253000</td>\n",
       "      <td>0.329000</td>\n",
       "      <td>11.000000</td>\n",
       "    </tr>\n",
       "    <tr>\n",
       "      <th>max</th>\n",
       "      <td>0.815000</td>\n",
       "      <td>0.650000</td>\n",
       "      <td>1.130000</td>\n",
       "      <td>2.825500</td>\n",
       "      <td>1.488000</td>\n",
       "      <td>0.760000</td>\n",
       "      <td>1.005000</td>\n",
       "      <td>29.000000</td>\n",
       "    </tr>\n",
       "  </tbody>\n",
       "</table>\n",
       "</div>"
      ],
      "text/plain": [
       "            Length     Diameter       Height  Whole weight  Shucked weight  \\\n",
       "count  4177.000000  4177.000000  4177.000000   4177.000000     4177.000000   \n",
       "mean      0.523992     0.407881     0.139516      0.828742        0.359367   \n",
       "std       0.120093     0.099240     0.041827      0.490389        0.221963   \n",
       "min       0.075000     0.055000     0.000000      0.002000        0.001000   \n",
       "25%       0.450000     0.350000     0.115000      0.441500        0.186000   \n",
       "50%       0.545000     0.425000     0.140000      0.799500        0.336000   \n",
       "75%       0.615000     0.480000     0.165000      1.153000        0.502000   \n",
       "max       0.815000     0.650000     1.130000      2.825500        1.488000   \n",
       "\n",
       "       Viscera weight  Shell weight        Rings  \n",
       "count     4177.000000   4177.000000  4177.000000  \n",
       "mean         0.180594      0.238831     9.933684  \n",
       "std          0.109614      0.139203     3.224169  \n",
       "min          0.000500      0.001500     1.000000  \n",
       "25%          0.093500      0.130000     8.000000  \n",
       "50%          0.171000      0.234000     9.000000  \n",
       "75%          0.253000      0.329000    11.000000  \n",
       "max          0.760000      1.005000    29.000000  "
      ]
     },
     "execution_count": 5,
     "metadata": {},
     "output_type": "execute_result"
    }
   ],
   "source": [
    "#statistical summary\n",
    "df.describe()"
   ]
  },
  {
   "cell_type": "markdown",
   "id": "02157f64",
   "metadata": {},
   "source": [
    "This column shows the statistical values for the data like mean,standard deviation and percentiles,minimum and maximum."
   ]
  },
  {
   "cell_type": "code",
   "execution_count": 6,
   "id": "6d6a3aa8",
   "metadata": {},
   "outputs": [
    {
     "data": {
      "text/plain": [
       "Sex               0\n",
       "Length            0\n",
       "Diameter          0\n",
       "Height            0\n",
       "Whole weight      0\n",
       "Shucked weight    0\n",
       "Viscera weight    0\n",
       "Shell weight      0\n",
       "Rings             0\n",
       "dtype: int64"
      ]
     },
     "execution_count": 6,
     "metadata": {},
     "output_type": "execute_result"
    }
   ],
   "source": [
    "#checking for null values or missing data\n",
    "df.isnull().sum()"
   ]
  },
  {
   "cell_type": "markdown",
   "id": "048ceee3",
   "metadata": {},
   "source": [
    "There are no null or missing values in the above dataset.\n",
    "\n",
    "We can also see this by a visualization method by using seaborn library."
   ]
  },
  {
   "cell_type": "code",
   "execution_count": 7,
   "id": "59a1d4a4",
   "metadata": {},
   "outputs": [
    {
     "data": {
      "text/plain": [
       "<AxesSubplot:>"
      ]
     },
     "execution_count": 7,
     "metadata": {},
     "output_type": "execute_result"
    },
    {
     "data": {
      "image/png": "[encoded data removed]",
      "text/plain": [
       "<Figure size 432x288 with 2 Axes>"
      ]
     },
     "metadata": {
      "needs_background": "light"
     },
     "output_type": "display_data"
    }
   ],
   "source": [
    "sns.heatmap(df.isnull())"
   ]
  },
  {
   "cell_type": "code",
   "execution_count": 8,
   "id": "4a2e0ff7",
   "metadata": {},
   "outputs": [
    {
     "data": {
      "text/plain": [
       "Sex                object\n",
       "Length            float64\n",
       "Diameter          float64\n",
       "Height            float64\n",
       "Whole weight      float64\n",
       "Shucked weight    float64\n",
       "Viscera weight    float64\n",
       "Shell weight      float64\n",
       "Rings               int64\n",
       "dtype: object"
      ]
     },
     "execution_count": 8,
     "metadata": {},
     "output_type": "execute_result"
    }
   ],
   "source": [
    "#checking for datatypes\n",
    "df.dtypes"
   ]
  },
  {
   "cell_type": "code",
   "execution_count": 9,
   "id": "126f7124",
   "metadata": {},
   "outputs": [
    {
     "data": {
      "text/plain": [
       "<AxesSubplot:xlabel='Diameter', ylabel='Density'>"
      ]
     },
     "execution_count": 9,
     "metadata": {},
     "output_type": "execute_result"
    },
    {
     "data": {
      "image/png": "[encoded data removed]",
      "text/plain": [
       "<Figure size 432x288 with 1 Axes>"
      ]
     },
     "metadata": {
      "needs_background": "light"
     },
     "output_type": "display_data"
    }
   ],
   "source": [
    "sns.distplot(df['Diameter'])"
   ]
  },
  {
   "cell_type": "code",
   "execution_count": 10,
   "id": "4e4de5c4",
   "metadata": {},
   "outputs": [
    {
     "data": {
      "text/plain": [
       "<AxesSubplot:xlabel='Shell weight', ylabel='Density'>"
      ]
     },
     "execution_count": 10,
     "metadata": {},
     "output_type": "execute_result"
    },
    {
     "data": {
      "image/png": "[encoded data removed]",
      "text/plain": [
       "<Figure size 432x288 with 1 Axes>"
      ]
     },
     "metadata": {
      "needs_background": "light"
     },
     "output_type": "display_data"
    }
   ],
   "source": [
    "sns.distplot(df['Shell weight'])"
   ]
  },
  {
   "cell_type": "code",
   "execution_count": 11,
   "id": "5f343223",
   "metadata": {},
   "outputs": [
    {
     "data": {
      "text/plain": [
       "<AxesSubplot:xlabel='Height', ylabel='Density'>"
      ]
     },
     "execution_count": 11,
     "metadata": {},
     "output_type": "execute_result"
    },
    {
     "data": {
      "image/png": "[encoded data removed]",
      "text/plain": [
       "<Figure size 432x288 with 1 Axes>"
      ]
     },
     "metadata": {
      "needs_background": "light"
     },
     "output_type": "display_data"
    }
   ],
   "source": [
    "sns.distplot(df['Height'])"
   ]
  },
  {
   "cell_type": "code",
   "execution_count": 12,
   "id": "e1ed5c4e",
   "metadata": {},
   "outputs": [
    {
     "data": {
      "text/plain": [
       "<AxesSubplot:xlabel='Whole weight', ylabel='Density'>"
      ]
     },
     "execution_count": 12,
     "metadata": {},
     "output_type": "execute_result"
    },
    {
     "data": {
      "image/png": "[encoded data removed]",
      "text/plain": [
       "<Figure size 432x288 with 1 Axes>"
      ]
     },
     "metadata": {
      "needs_background": "light"
     },
     "output_type": "display_data"
    }
   ],
   "source": [
    "sns.distplot(df['Whole weight'])"
   ]
  },
  {
   "cell_type": "code",
   "execution_count": 14,
   "id": "58bb3a2d",
   "metadata": {},
   "outputs": [
    {
     "data": {
      "text/plain": [
       "Index(['Sex', 'Length', 'Diameter', 'Height', 'Whole weight', 'Shucked weight',\n",
       "       'Viscera weight', 'Shell weight', 'Rings'],\n",
       "      dtype='object')"
      ]
     },
     "execution_count": 14,
     "metadata": {},
     "output_type": "execute_result"
    }
   ],
   "source": [
    "df.columns"
   ]
  },
  {
   "cell_type": "code",
   "execution_count": 15,
   "id": "a900a18c",
   "metadata": {},
   "outputs": [
    {
     "data": {
      "text/plain": [
       "0       M\n",
       "1       M\n",
       "2       F\n",
       "3       M\n",
       "4       I\n",
       "       ..\n",
       "4172    F\n",
       "4173    M\n",
       "4174    M\n",
       "4175    F\n",
       "4176    M\n",
       "Name: Sex, Length: 4177, dtype: object"
      ]
     },
     "execution_count": 15,
     "metadata": {},
     "output_type": "execute_result"
    }
   ],
   "source": [
    "df.iloc[:,0]"
   ]
  },
  {
   "cell_type": "markdown",
   "id": "86cdfe3c",
   "metadata": {},
   "source": [
    "The sex column is an object type so we can do 2 things either we remove the column or we can encode the column. best approach is to encode the column by using label encoding."
   ]
  },
  {
   "cell_type": "code",
   "execution_count": 16,
   "id": "c19bb37d",
   "metadata": {},
   "outputs": [
    {
     "data": {
      "text/html": [
       "<div>\n",
       "<style scoped>\n",
       "    .dataframe tbody tr th:only-of-type {\n",
       "        vertical-align: middle;\n",
       "    }\n",
       "\n",
       "    .dataframe tbody tr th {\n",
       "        vertical-align: top;\n",
       "    }\n",
       "\n",
       "    .dataframe thead th {\n",
       "        text-align: right;\n",
       "    }\n",
       "</style>\n",
       "<table border=\"1\" class=\"dataframe\">\n",
       "  <thead>\n",
       "    <tr style=\"text-align: right;\">\n",
       "      <th></th>\n",
       "      <th>Sex</th>\n",
       "      <th>Length</th>\n",
       "      <th>Diameter</th>\n",
       "      <th>Height</th>\n",
       "      <th>Whole weight</th>\n",
       "      <th>Shucked weight</th>\n",
       "      <th>Viscera weight</th>\n",
       "      <th>Shell weight</th>\n",
       "      <th>Rings</th>\n",
       "    </tr>\n",
       "  </thead>\n",
       "  <tbody>\n",
       "    <tr>\n",
       "      <th>0</th>\n",
       "      <td>2</td>\n",
       "      <td>0.455</td>\n",
       "      <td>0.365</td>\n",
       "      <td>0.095</td>\n",
       "      <td>0.5140</td>\n",
       "      <td>0.2245</td>\n",
       "      <td>0.1010</td>\n",
       "      <td>0.1500</td>\n",
       "      <td>15</td>\n",
       "    </tr>\n",
       "    <tr>\n",
       "      <th>1</th>\n",
       "      <td>2</td>\n",
       "      <td>0.350</td>\n",
       "      <td>0.265</td>\n",
       "      <td>0.090</td>\n",
       "      <td>0.2255</td>\n",
       "      <td>0.0995</td>\n",
       "      <td>0.0485</td>\n",
       "      <td>0.0700</td>\n",
       "      <td>7</td>\n",
       "    </tr>\n",
       "    <tr>\n",
       "      <th>2</th>\n",
       "      <td>0</td>\n",
       "      <td>0.530</td>\n",
       "      <td>0.420</td>\n",
       "      <td>0.135</td>\n",
       "      <td>0.6770</td>\n",
       "      <td>0.2565</td>\n",
       "      <td>0.1415</td>\n",
       "      <td>0.2100</td>\n",
       "      <td>9</td>\n",
       "    </tr>\n",
       "    <tr>\n",
       "      <th>3</th>\n",
       "      <td>2</td>\n",
       "      <td>0.440</td>\n",
       "      <td>0.365</td>\n",
       "      <td>0.125</td>\n",
       "      <td>0.5160</td>\n",
       "      <td>0.2155</td>\n",
       "      <td>0.1140</td>\n",
       "      <td>0.1550</td>\n",
       "      <td>10</td>\n",
       "    </tr>\n",
       "    <tr>\n",
       "      <th>4</th>\n",
       "      <td>1</td>\n",
       "      <td>0.330</td>\n",
       "      <td>0.255</td>\n",
       "      <td>0.080</td>\n",
       "      <td>0.2050</td>\n",
       "      <td>0.0895</td>\n",
       "      <td>0.0395</td>\n",
       "      <td>0.0550</td>\n",
       "      <td>7</td>\n",
       "    </tr>\n",
       "    <tr>\n",
       "      <th>...</th>\n",
       "      <td>...</td>\n",
       "      <td>...</td>\n",
       "      <td>...</td>\n",
       "      <td>...</td>\n",
       "      <td>...</td>\n",
       "      <td>...</td>\n",
       "      <td>...</td>\n",
       "      <td>...</td>\n",
       "      <td>...</td>\n",
       "    </tr>\n",
       "    <tr>\n",
       "      <th>4172</th>\n",
       "      <td>0</td>\n",
       "      <td>0.565</td>\n",
       "      <td>0.450</td>\n",
       "      <td>0.165</td>\n",
       "      <td>0.8870</td>\n",
       "      <td>0.3700</td>\n",
       "      <td>0.2390</td>\n",
       "      <td>0.2490</td>\n",
       "      <td>11</td>\n",
       "    </tr>\n",
       "    <tr>\n",
       "      <th>4173</th>\n",
       "      <td>2</td>\n",
       "      <td>0.590</td>\n",
       "      <td>0.440</td>\n",
       "      <td>0.135</td>\n",
       "      <td>0.9660</td>\n",
       "      <td>0.4390</td>\n",
       "      <td>0.2145</td>\n",
       "      <td>0.2605</td>\n",
       "      <td>10</td>\n",
       "    </tr>\n",
       "    <tr>\n",
       "      <th>4174</th>\n",
       "      <td>2</td>\n",
       "      <td>0.600</td>\n",
       "      <td>0.475</td>\n",
       "      <td>0.205</td>\n",
       "      <td>1.1760</td>\n",
       "      <td>0.5255</td>\n",
       "      <td>0.2875</td>\n",
       "      <td>0.3080</td>\n",
       "      <td>9</td>\n",
       "    </tr>\n",
       "    <tr>\n",
       "      <th>4175</th>\n",
       "      <td>0</td>\n",
       "      <td>0.625</td>\n",
       "      <td>0.485</td>\n",
       "      <td>0.150</td>\n",
       "      <td>1.0945</td>\n",
       "      <td>0.5310</td>\n",
       "      <td>0.2610</td>\n",
       "      <td>0.2960</td>\n",
       "      <td>10</td>\n",
       "    </tr>\n",
       "    <tr>\n",
       "      <th>4176</th>\n",
       "      <td>2</td>\n",
       "      <td>0.710</td>\n",
       "      <td>0.555</td>\n",
       "      <td>0.195</td>\n",
       "      <td>1.9485</td>\n",
       "      <td>0.9455</td>\n",
       "      <td>0.3765</td>\n",
       "      <td>0.4950</td>\n",
       "      <td>12</td>\n",
       "    </tr>\n",
       "  </tbody>\n",
       "</table>\n",
       "<p>4177 rows × 9 columns</p>\n",
       "</div>"
      ],
      "text/plain": [
       "      Sex  Length  Diameter  Height  Whole weight  Shucked weight  \\\n",
       "0       2   0.455     0.365   0.095        0.5140          0.2245   \n",
       "1       2   0.350     0.265   0.090        0.2255          0.0995   \n",
       "2       0   0.530     0.420   0.135        0.6770          0.2565   \n",
       "3       2   0.440     0.365   0.125        0.5160          0.2155   \n",
       "4       1   0.330     0.255   0.080        0.2050          0.0895   \n",
       "...   ...     ...       ...     ...           ...             ...   \n",
       "4172    0   0.565     0.450   0.165        0.8870          0.3700   \n",
       "4173    2   0.590     0.440   0.135        0.9660          0.4390   \n",
       "4174    2   0.600     0.475   0.205        1.1760          0.5255   \n",
       "4175    0   0.625     0.485   0.150        1.0945          0.5310   \n",
       "4176    2   0.710     0.555   0.195        1.9485          0.9455   \n",
       "\n",
       "      Viscera weight  Shell weight  Rings  \n",
       "0             0.1010        0.1500     15  \n",
       "1             0.0485        0.0700      7  \n",
       "2             0.1415        0.2100      9  \n",
       "3             0.1140        0.1550     10  \n",
       "4             0.0395        0.0550      7  \n",
       "...              ...           ...    ...  \n",
       "4172          0.2390        0.2490     11  \n",
       "4173          0.2145        0.2605     10  \n",
       "4174          0.2875        0.3080      9  \n",
       "4175          0.2610        0.2960     10  \n",
       "4176          0.3765        0.4950     12  \n",
       "\n",
       "[4177 rows x 9 columns]"
      ]
     },
     "execution_count": 16,
     "metadata": {},
     "output_type": "execute_result"
    }
   ],
   "source": [
    "# LABEL ENCODING\n",
    "lencode=LabelEncoder()\n",
    "df['Sex']=lencode.fit_transform(df['Sex'])\n",
    "df"
   ]
  },
  {
   "cell_type": "markdown",
   "id": "0543c553",
   "metadata": {},
   "source": [
    "we encoded the sex column in an integer form(0,1,2)."
   ]
  },
  {
   "cell_type": "code",
   "execution_count": 18,
   "id": "5abc2db1",
   "metadata": {},
   "outputs": [
    {
     "data": {
      "text/html": [
       "<div>\n",
       "<style scoped>\n",
       "    .dataframe tbody tr th:only-of-type {\n",
       "        vertical-align: middle;\n",
       "    }\n",
       "\n",
       "    .dataframe tbody tr th {\n",
       "        vertical-align: top;\n",
       "    }\n",
       "\n",
       "    .dataframe thead th {\n",
       "        text-align: right;\n",
       "    }\n",
       "</style>\n",
       "<table border=\"1\" class=\"dataframe\">\n",
       "  <thead>\n",
       "    <tr style=\"text-align: right;\">\n",
       "      <th></th>\n",
       "      <th>Sex</th>\n",
       "      <th>Length</th>\n",
       "      <th>Diameter</th>\n",
       "      <th>Height</th>\n",
       "      <th>Whole weight</th>\n",
       "      <th>Shucked weight</th>\n",
       "      <th>Viscera weight</th>\n",
       "      <th>Shell weight</th>\n",
       "      <th>Rings</th>\n",
       "    </tr>\n",
       "  </thead>\n",
       "  <tbody>\n",
       "    <tr>\n",
       "      <th>Sex</th>\n",
       "      <td>1.000000</td>\n",
       "      <td>-0.036066</td>\n",
       "      <td>-0.038874</td>\n",
       "      <td>-0.042077</td>\n",
       "      <td>-0.021391</td>\n",
       "      <td>-0.001373</td>\n",
       "      <td>-0.032067</td>\n",
       "      <td>-0.034854</td>\n",
       "      <td>-0.034627</td>\n",
       "    </tr>\n",
       "    <tr>\n",
       "      <th>Length</th>\n",
       "      <td>-0.036066</td>\n",
       "      <td>1.000000</td>\n",
       "      <td>0.986812</td>\n",
       "      <td>0.827554</td>\n",
       "      <td>0.925261</td>\n",
       "      <td>0.897914</td>\n",
       "      <td>0.903018</td>\n",
       "      <td>0.897706</td>\n",
       "      <td>0.556720</td>\n",
       "    </tr>\n",
       "    <tr>\n",
       "      <th>Diameter</th>\n",
       "      <td>-0.038874</td>\n",
       "      <td>0.986812</td>\n",
       "      <td>1.000000</td>\n",
       "      <td>0.833684</td>\n",
       "      <td>0.925452</td>\n",
       "      <td>0.893162</td>\n",
       "      <td>0.899724</td>\n",
       "      <td>0.905330</td>\n",
       "      <td>0.574660</td>\n",
       "    </tr>\n",
       "    <tr>\n",
       "      <th>Height</th>\n",
       "      <td>-0.042077</td>\n",
       "      <td>0.827554</td>\n",
       "      <td>0.833684</td>\n",
       "      <td>1.000000</td>\n",
       "      <td>0.819221</td>\n",
       "      <td>0.774972</td>\n",
       "      <td>0.798319</td>\n",
       "      <td>0.817338</td>\n",
       "      <td>0.557467</td>\n",
       "    </tr>\n",
       "    <tr>\n",
       "      <th>Whole weight</th>\n",
       "      <td>-0.021391</td>\n",
       "      <td>0.925261</td>\n",
       "      <td>0.925452</td>\n",
       "      <td>0.819221</td>\n",
       "      <td>1.000000</td>\n",
       "      <td>0.969405</td>\n",
       "      <td>0.966375</td>\n",
       "      <td>0.955355</td>\n",
       "      <td>0.540390</td>\n",
       "    </tr>\n",
       "    <tr>\n",
       "      <th>Shucked weight</th>\n",
       "      <td>-0.001373</td>\n",
       "      <td>0.897914</td>\n",
       "      <td>0.893162</td>\n",
       "      <td>0.774972</td>\n",
       "      <td>0.969405</td>\n",
       "      <td>1.000000</td>\n",
       "      <td>0.931961</td>\n",
       "      <td>0.882617</td>\n",
       "      <td>0.420884</td>\n",
       "    </tr>\n",
       "    <tr>\n",
       "      <th>Viscera weight</th>\n",
       "      <td>-0.032067</td>\n",
       "      <td>0.903018</td>\n",
       "      <td>0.899724</td>\n",
       "      <td>0.798319</td>\n",
       "      <td>0.966375</td>\n",
       "      <td>0.931961</td>\n",
       "      <td>1.000000</td>\n",
       "      <td>0.907656</td>\n",
       "      <td>0.503819</td>\n",
       "    </tr>\n",
       "    <tr>\n",
       "      <th>Shell weight</th>\n",
       "      <td>-0.034854</td>\n",
       "      <td>0.897706</td>\n",
       "      <td>0.905330</td>\n",
       "      <td>0.817338</td>\n",
       "      <td>0.955355</td>\n",
       "      <td>0.882617</td>\n",
       "      <td>0.907656</td>\n",
       "      <td>1.000000</td>\n",
       "      <td>0.627574</td>\n",
       "    </tr>\n",
       "    <tr>\n",
       "      <th>Rings</th>\n",
       "      <td>-0.034627</td>\n",
       "      <td>0.556720</td>\n",
       "      <td>0.574660</td>\n",
       "      <td>0.557467</td>\n",
       "      <td>0.540390</td>\n",
       "      <td>0.420884</td>\n",
       "      <td>0.503819</td>\n",
       "      <td>0.627574</td>\n",
       "      <td>1.000000</td>\n",
       "    </tr>\n",
       "  </tbody>\n",
       "</table>\n",
       "</div>"
      ],
      "text/plain": [
       "                     Sex    Length  Diameter    Height  Whole weight  \\\n",
       "Sex             1.000000 -0.036066 -0.038874 -0.042077     -0.021391   \n",
       "Length         -0.036066  1.000000  0.986812  0.827554      0.925261   \n",
       "Diameter       -0.038874  0.986812  1.000000  0.833684      0.925452   \n",
       "Height         -0.042077  0.827554  0.833684  1.000000      0.819221   \n",
       "Whole weight   -0.021391  0.925261  0.925452  0.819221      1.000000   \n",
       "Shucked weight -0.001373  0.897914  0.893162  0.774972      0.969405   \n",
       "Viscera weight -0.032067  0.903018  0.899724  0.798319      0.966375   \n",
       "Shell weight   -0.034854  0.897706  0.905330  0.817338      0.955355   \n",
       "Rings          -0.034627  0.556720  0.574660  0.557467      0.540390   \n",
       "\n",
       "                Shucked weight  Viscera weight  Shell weight     Rings  \n",
       "Sex                  -0.001373       -0.032067     -0.034854 -0.034627  \n",
       "Length                0.897914        0.903018      0.897706  0.556720  \n",
       "Diameter              0.893162        0.899724      0.905330  0.574660  \n",
       "Height                0.774972        0.798319      0.817338  0.557467  \n",
       "Whole weight          0.969405        0.966375      0.955355  0.540390  \n",
       "Shucked weight        1.000000        0.931961      0.882617  0.420884  \n",
       "Viscera weight        0.931961        1.000000      0.907656  0.503819  \n",
       "Shell weight          0.882617        0.907656      1.000000  0.627574  \n",
       "Rings                 0.420884        0.503819      0.627574  1.000000  "
      ]
     },
     "execution_count": 18,
     "metadata": {},
     "output_type": "execute_result"
    }
   ],
   "source": [
    "df.corr()"
   ]
  },
  {
   "cell_type": "code",
   "execution_count": 19,
   "id": "d0a0da45",
   "metadata": {},
   "outputs": [
    {
     "data": {
      "text/plain": [
       "<AxesSubplot:>"
      ]
     },
     "execution_count": 19,
     "metadata": {},
     "output_type": "execute_result"
    },
    {
     "data": {
      "image/png": "[encoded data removed]",
      "text/plain": [
       "<Figure size 432x288 with 2 Axes>"
      ]
     },
     "metadata": {
      "needs_background": "light"
     },
     "output_type": "display_data"
    }
   ],
   "source": [
    "sns.heatmap(df.corr(),cmap='Blues',fmt='.2g',annot=True)"
   ]
  },
  {
   "cell_type": "markdown",
   "id": "742dd69f",
   "metadata": {},
   "source": [
    "From the above correlation matrix we can conclude that 'length' and 'daimeter' column are highly correlated and 'whole weight' and 'shucked weight' are also highly correlated. so Multicolenearity is present in the dataset. so for this we are going to use variance inflation factor(VIF).\n",
    "\n",
    "highly correlated-'length' and 'daimeter' and 'whole weight' and 'shucked weight'"
   ]
  },
  {
   "cell_type": "code",
   "execution_count": 13,
   "id": "0423da20",
   "metadata": {},
   "outputs": [
    {
     "data": {
      "image/png": "[encoded data removed]",
      "text/plain": [
       "<Figure size 432x288 with 9 Axes>"
      ]
     },
     "metadata": {
      "needs_background": "light"
     },
     "output_type": "display_data"
    }
   ],
   "source": [
    "df.plot(kind='density',subplots=True,layout=(3,3),sharex=False,legend=False,fontsize=1)\n",
    "plt.show()"
   ]
  },
  {
   "cell_type": "markdown",
   "id": "3eb3c3ca",
   "metadata": {},
   "source": [
    "Data are not normally distributed. so skewness is present in the dataset."
   ]
  },
  {
   "cell_type": "code",
   "execution_count": 20,
   "id": "9950d26b",
   "metadata": {},
   "outputs": [
    {
     "data": {
      "text/html": [
       "<div>\n",
       "<style scoped>\n",
       "    .dataframe tbody tr th:only-of-type {\n",
       "        vertical-align: middle;\n",
       "    }\n",
       "\n",
       "    .dataframe tbody tr th {\n",
       "        vertical-align: top;\n",
       "    }\n",
       "\n",
       "    .dataframe thead th {\n",
       "        text-align: right;\n",
       "    }\n",
       "</style>\n",
       "<table border=\"1\" class=\"dataframe\">\n",
       "  <thead>\n",
       "    <tr style=\"text-align: right;\">\n",
       "      <th></th>\n",
       "      <th>Sex</th>\n",
       "      <th>Length</th>\n",
       "      <th>Diameter</th>\n",
       "      <th>Height</th>\n",
       "      <th>Whole weight</th>\n",
       "      <th>Shucked weight</th>\n",
       "      <th>Viscera weight</th>\n",
       "      <th>Shell weight</th>\n",
       "    </tr>\n",
       "  </thead>\n",
       "  <tbody>\n",
       "    <tr>\n",
       "      <th>0</th>\n",
       "      <td>2</td>\n",
       "      <td>0.455</td>\n",
       "      <td>0.365</td>\n",
       "      <td>0.095</td>\n",
       "      <td>0.5140</td>\n",
       "      <td>0.2245</td>\n",
       "      <td>0.1010</td>\n",
       "      <td>0.1500</td>\n",
       "    </tr>\n",
       "    <tr>\n",
       "      <th>1</th>\n",
       "      <td>2</td>\n",
       "      <td>0.350</td>\n",
       "      <td>0.265</td>\n",
       "      <td>0.090</td>\n",
       "      <td>0.2255</td>\n",
       "      <td>0.0995</td>\n",
       "      <td>0.0485</td>\n",
       "      <td>0.0700</td>\n",
       "    </tr>\n",
       "    <tr>\n",
       "      <th>2</th>\n",
       "      <td>0</td>\n",
       "      <td>0.530</td>\n",
       "      <td>0.420</td>\n",
       "      <td>0.135</td>\n",
       "      <td>0.6770</td>\n",
       "      <td>0.2565</td>\n",
       "      <td>0.1415</td>\n",
       "      <td>0.2100</td>\n",
       "    </tr>\n",
       "    <tr>\n",
       "      <th>3</th>\n",
       "      <td>2</td>\n",
       "      <td>0.440</td>\n",
       "      <td>0.365</td>\n",
       "      <td>0.125</td>\n",
       "      <td>0.5160</td>\n",
       "      <td>0.2155</td>\n",
       "      <td>0.1140</td>\n",
       "      <td>0.1550</td>\n",
       "    </tr>\n",
       "    <tr>\n",
       "      <th>4</th>\n",
       "      <td>1</td>\n",
       "      <td>0.330</td>\n",
       "      <td>0.255</td>\n",
       "      <td>0.080</td>\n",
       "      <td>0.2050</td>\n",
       "      <td>0.0895</td>\n",
       "      <td>0.0395</td>\n",
       "      <td>0.0550</td>\n",
       "    </tr>\n",
       "    <tr>\n",
       "      <th>...</th>\n",
       "      <td>...</td>\n",
       "      <td>...</td>\n",
       "      <td>...</td>\n",
       "      <td>...</td>\n",
       "      <td>...</td>\n",
       "      <td>...</td>\n",
       "      <td>...</td>\n",
       "      <td>...</td>\n",
       "    </tr>\n",
       "    <tr>\n",
       "      <th>4172</th>\n",
       "      <td>0</td>\n",
       "      <td>0.565</td>\n",
       "      <td>0.450</td>\n",
       "      <td>0.165</td>\n",
       "      <td>0.8870</td>\n",
       "      <td>0.3700</td>\n",
       "      <td>0.2390</td>\n",
       "      <td>0.2490</td>\n",
       "    </tr>\n",
       "    <tr>\n",
       "      <th>4173</th>\n",
       "      <td>2</td>\n",
       "      <td>0.590</td>\n",
       "      <td>0.440</td>\n",
       "      <td>0.135</td>\n",
       "      <td>0.9660</td>\n",
       "      <td>0.4390</td>\n",
       "      <td>0.2145</td>\n",
       "      <td>0.2605</td>\n",
       "    </tr>\n",
       "    <tr>\n",
       "      <th>4174</th>\n",
       "      <td>2</td>\n",
       "      <td>0.600</td>\n",
       "      <td>0.475</td>\n",
       "      <td>0.205</td>\n",
       "      <td>1.1760</td>\n",
       "      <td>0.5255</td>\n",
       "      <td>0.2875</td>\n",
       "      <td>0.3080</td>\n",
       "    </tr>\n",
       "    <tr>\n",
       "      <th>4175</th>\n",
       "      <td>0</td>\n",
       "      <td>0.625</td>\n",
       "      <td>0.485</td>\n",
       "      <td>0.150</td>\n",
       "      <td>1.0945</td>\n",
       "      <td>0.5310</td>\n",
       "      <td>0.2610</td>\n",
       "      <td>0.2960</td>\n",
       "    </tr>\n",
       "    <tr>\n",
       "      <th>4176</th>\n",
       "      <td>2</td>\n",
       "      <td>0.710</td>\n",
       "      <td>0.555</td>\n",
       "      <td>0.195</td>\n",
       "      <td>1.9485</td>\n",
       "      <td>0.9455</td>\n",
       "      <td>0.3765</td>\n",
       "      <td>0.4950</td>\n",
       "    </tr>\n",
       "  </tbody>\n",
       "</table>\n",
       "<p>4177 rows × 8 columns</p>\n",
       "</div>"
      ],
      "text/plain": [
       "      Sex  Length  Diameter  Height  Whole weight  Shucked weight  \\\n",
       "0       2   0.455     0.365   0.095        0.5140          0.2245   \n",
       "1       2   0.350     0.265   0.090        0.2255          0.0995   \n",
       "2       0   0.530     0.420   0.135        0.6770          0.2565   \n",
       "3       2   0.440     0.365   0.125        0.5160          0.2155   \n",
       "4       1   0.330     0.255   0.080        0.2050          0.0895   \n",
       "...   ...     ...       ...     ...           ...             ...   \n",
       "4172    0   0.565     0.450   0.165        0.8870          0.3700   \n",
       "4173    2   0.590     0.440   0.135        0.9660          0.4390   \n",
       "4174    2   0.600     0.475   0.205        1.1760          0.5255   \n",
       "4175    0   0.625     0.485   0.150        1.0945          0.5310   \n",
       "4176    2   0.710     0.555   0.195        1.9485          0.9455   \n",
       "\n",
       "      Viscera weight  Shell weight  \n",
       "0             0.1010        0.1500  \n",
       "1             0.0485        0.0700  \n",
       "2             0.1415        0.2100  \n",
       "3             0.1140        0.1550  \n",
       "4             0.0395        0.0550  \n",
       "...              ...           ...  \n",
       "4172          0.2390        0.2490  \n",
       "4173          0.2145        0.2605  \n",
       "4174          0.2875        0.3080  \n",
       "4175          0.2610        0.2960  \n",
       "4176          0.3765        0.4950  \n",
       "\n",
       "[4177 rows x 8 columns]"
      ]
     },
     "execution_count": 20,
     "metadata": {},
     "output_type": "execute_result"
    }
   ],
   "source": [
    "#Splitting the independent variables and target\n",
    "x=df.iloc[:,0:-1]\n",
    "x"
   ]
  },
  {
   "cell_type": "code",
   "execution_count": 21,
   "id": "ac8a4a2e",
   "metadata": {},
   "outputs": [
    {
     "data": {
      "text/plain": [
       "0       15\n",
       "1        7\n",
       "2        9\n",
       "3       10\n",
       "4        7\n",
       "        ..\n",
       "4172    11\n",
       "4173    10\n",
       "4174     9\n",
       "4175    10\n",
       "4176    12\n",
       "Name: Rings, Length: 4177, dtype: int64"
      ]
     },
     "execution_count": 21,
     "metadata": {},
     "output_type": "execute_result"
    }
   ],
   "source": [
    "y=df.iloc[:,-1]\n",
    "y"
   ]
  },
  {
   "cell_type": "code",
   "execution_count": 22,
   "id": "c42a3c47",
   "metadata": {},
   "outputs": [
    {
     "data": {
      "text/plain": [
       "Height            3.128817\n",
       "Shucked weight    0.719098\n",
       "Shell weight      0.620927\n",
       "Viscera weight    0.591852\n",
       "Whole weight      0.530959\n",
       "Sex              -0.098155\n",
       "Diameter         -0.609198\n",
       "Length           -0.639873\n",
       "dtype: float64"
      ]
     },
     "execution_count": 22,
     "metadata": {},
     "output_type": "execute_result"
    }
   ],
   "source": [
    "x.skew().sort_values(ascending=False)"
   ]
  },
  {
   "cell_type": "code",
   "execution_count": 23,
   "id": "018ee1be",
   "metadata": {},
   "outputs": [
    {
     "data": {
      "text/plain": [
       "numpy.ndarray"
      ]
     },
     "execution_count": 23,
     "metadata": {},
     "output_type": "execute_result"
    }
   ],
   "source": [
    "x_new=power_transform(x)\n",
    "type(x_new)"
   ]
  },
  {
   "cell_type": "code",
   "execution_count": 24,
   "id": "217768ee",
   "metadata": {},
   "outputs": [
    {
     "data": {
      "text/html": [
       "<div>\n",
       "<style scoped>\n",
       "    .dataframe tbody tr th:only-of-type {\n",
       "        vertical-align: middle;\n",
       "    }\n",
       "\n",
       "    .dataframe tbody tr th {\n",
       "        vertical-align: top;\n",
       "    }\n",
       "\n",
       "    .dataframe thead th {\n",
       "        text-align: right;\n",
       "    }\n",
       "</style>\n",
       "<table border=\"1\" class=\"dataframe\">\n",
       "  <thead>\n",
       "    <tr style=\"text-align: right;\">\n",
       "      <th></th>\n",
       "      <th>Sex</th>\n",
       "      <th>Length</th>\n",
       "      <th>Diameter</th>\n",
       "      <th>Height</th>\n",
       "      <th>Whole weight</th>\n",
       "      <th>Shucked weight</th>\n",
       "      <th>Viscera weight</th>\n",
       "      <th>Shell weight</th>\n",
       "    </tr>\n",
       "  </thead>\n",
       "  <tbody>\n",
       "    <tr>\n",
       "      <th>0</th>\n",
       "      <td>1.127072</td>\n",
       "      <td>-0.685502</td>\n",
       "      <td>-0.549860</td>\n",
       "      <td>-1.124512</td>\n",
       "      <td>-0.576766</td>\n",
       "      <td>-0.540989</td>\n",
       "      <td>-0.693283</td>\n",
       "      <td>-0.587809</td>\n",
       "    </tr>\n",
       "    <tr>\n",
       "      <th>1</th>\n",
       "      <td>1.127072</td>\n",
       "      <td>-1.396344</td>\n",
       "      <td>-1.387333</td>\n",
       "      <td>-1.264396</td>\n",
       "      <td>-1.351761</td>\n",
       "      <td>-1.311662</td>\n",
       "      <td>-1.332953</td>\n",
       "      <td>-1.332420</td>\n",
       "    </tr>\n",
       "    <tr>\n",
       "      <th>2</th>\n",
       "      <td>-1.307935</td>\n",
       "      <td>-0.070774</td>\n",
       "      <td>0.008537</td>\n",
       "      <td>-0.064823</td>\n",
       "      <td>-0.198099</td>\n",
       "      <td>-0.366116</td>\n",
       "      <td>-0.255135</td>\n",
       "      <td>-0.098262</td>\n",
       "    </tr>\n",
       "    <tr>\n",
       "      <th>3</th>\n",
       "      <td>1.127072</td>\n",
       "      <td>-0.797286</td>\n",
       "      <td>-0.549860</td>\n",
       "      <td>-0.320227</td>\n",
       "      <td>-0.571893</td>\n",
       "      <td>-0.591672</td>\n",
       "      <td>-0.547782</td>\n",
       "      <td>-0.544931</td>\n",
       "    </tr>\n",
       "    <tr>\n",
       "      <th>4</th>\n",
       "      <td>-0.009459</td>\n",
       "      <td>-1.513796</td>\n",
       "      <td>-1.459659</td>\n",
       "      <td>-1.549424</td>\n",
       "      <td>-1.413146</td>\n",
       "      <td>-1.380201</td>\n",
       "      <td>-1.451759</td>\n",
       "      <td>-1.485528</td>\n",
       "    </tr>\n",
       "    <tr>\n",
       "      <th>...</th>\n",
       "      <td>...</td>\n",
       "      <td>...</td>\n",
       "      <td>...</td>\n",
       "      <td>...</td>\n",
       "      <td>...</td>\n",
       "      <td>...</td>\n",
       "      <td>...</td>\n",
       "      <td>...</td>\n",
       "    </tr>\n",
       "    <tr>\n",
       "      <th>4172</th>\n",
       "      <td>-1.307935</td>\n",
       "      <td>0.249836</td>\n",
       "      <td>0.345636</td>\n",
       "      <td>0.666117</td>\n",
       "      <td>0.241948</td>\n",
       "      <td>0.194158</td>\n",
       "      <td>0.639623</td>\n",
       "      <td>0.193008</td>\n",
       "    </tr>\n",
       "    <tr>\n",
       "      <th>4173</th>\n",
       "      <td>1.127072</td>\n",
       "      <td>0.492813</td>\n",
       "      <td>0.230611</td>\n",
       "      <td>-0.064823</td>\n",
       "      <td>0.395706</td>\n",
       "      <td>0.495450</td>\n",
       "      <td>0.433568</td>\n",
       "      <td>0.275215</td>\n",
       "    </tr>\n",
       "    <tr>\n",
       "      <th>4174</th>\n",
       "      <td>1.127072</td>\n",
       "      <td>0.593366</td>\n",
       "      <td>0.645191</td>\n",
       "      <td>1.565082</td>\n",
       "      <td>0.777944</td>\n",
       "      <td>0.838137</td>\n",
       "      <td>1.015607</td>\n",
       "      <td>0.598398</td>\n",
       "    </tr>\n",
       "    <tr>\n",
       "      <th>4175</th>\n",
       "      <td>-1.307935</td>\n",
       "      <td>0.853375</td>\n",
       "      <td>0.769928</td>\n",
       "      <td>0.307083</td>\n",
       "      <td>0.633874</td>\n",
       "      <td>0.858739</td>\n",
       "      <td>0.815184</td>\n",
       "      <td>0.519145</td>\n",
       "    </tr>\n",
       "    <tr>\n",
       "      <th>4176</th>\n",
       "      <td>1.127072</td>\n",
       "      <td>1.834478</td>\n",
       "      <td>1.726289</td>\n",
       "      <td>1.347943</td>\n",
       "      <td>1.937323</td>\n",
       "      <td>2.103648</td>\n",
       "      <td>1.611344</td>\n",
       "      <td>1.658488</td>\n",
       "    </tr>\n",
       "  </tbody>\n",
       "</table>\n",
       "<p>4177 rows × 8 columns</p>\n",
       "</div>"
      ],
      "text/plain": [
       "           Sex    Length  Diameter    Height  Whole weight  Shucked weight  \\\n",
       "0     1.127072 -0.685502 -0.549860 -1.124512     -0.576766       -0.540989   \n",
       "1     1.127072 -1.396344 -1.387333 -1.264396     -1.351761       -1.311662   \n",
       "2    -1.307935 -0.070774  0.008537 -0.064823     -0.198099       -0.366116   \n",
       "3     1.127072 -0.797286 -0.549860 -0.320227     -0.571893       -0.591672   \n",
       "4    -0.009459 -1.513796 -1.459659 -1.549424     -1.413146       -1.380201   \n",
       "...        ...       ...       ...       ...           ...             ...   \n",
       "4172 -1.307935  0.249836  0.345636  0.666117      0.241948        0.194158   \n",
       "4173  1.127072  0.492813  0.230611 -0.064823      0.395706        0.495450   \n",
       "4174  1.127072  0.593366  0.645191  1.565082      0.777944        0.838137   \n",
       "4175 -1.307935  0.853375  0.769928  0.307083      0.633874        0.858739   \n",
       "4176  1.127072  1.834478  1.726289  1.347943      1.937323        2.103648   \n",
       "\n",
       "      Viscera weight  Shell weight  \n",
       "0          -0.693283     -0.587809  \n",
       "1          -1.332953     -1.332420  \n",
       "2          -0.255135     -0.098262  \n",
       "3          -0.547782     -0.544931  \n",
       "4          -1.451759     -1.485528  \n",
       "...              ...           ...  \n",
       "4172        0.639623      0.193008  \n",
       "4173        0.433568      0.275215  \n",
       "4174        1.015607      0.598398  \n",
       "4175        0.815184      0.519145  \n",
       "4176        1.611344      1.658488  \n",
       "\n",
       "[4177 rows x 8 columns]"
      ]
     },
     "execution_count": 24,
     "metadata": {},
     "output_type": "execute_result"
    }
   ],
   "source": [
    "x=pd.DataFrame(x_new,columns=x.columns)\n",
    "x"
   ]
  },
  {
   "cell_type": "code",
   "execution_count": 25,
   "id": "ab6b3e50",
   "metadata": {},
   "outputs": [
    {
     "data": {
      "text/plain": [
       "Viscera weight    0.039780\n",
       "Shucked weight    0.027351\n",
       "Shell weight      0.023390\n",
       "Whole weight     -0.003980\n",
       "Diameter         -0.065977\n",
       "Length           -0.066669\n",
       "Height           -0.115483\n",
       "Sex              -0.176442\n",
       "dtype: float64"
      ]
     },
     "execution_count": 25,
     "metadata": {},
     "output_type": "execute_result"
    }
   ],
   "source": [
    "x.skew().sort_values(ascending=False)"
   ]
  },
  {
   "cell_type": "code",
   "execution_count": 26,
   "id": "b3ca2856",
   "metadata": {},
   "outputs": [
    {
     "data": {
      "text/plain": [
       "Sex              -0.176442\n",
       "Length           -0.066669\n",
       "Diameter         -0.065977\n",
       "Height           -0.115483\n",
       "Whole weight     -0.003980\n",
       "Shucked weight    0.027351\n",
       "Viscera weight    0.039780\n",
       "Shell weight      0.023390\n",
       "dtype: float64"
      ]
     },
     "execution_count": 26,
     "metadata": {},
     "output_type": "execute_result"
    }
   ],
   "source": [
    "sk=x.skew()\n",
    "sk"
   ]
  },
  {
   "cell_type": "markdown",
   "id": "02bd334e",
   "metadata": {},
   "source": [
    "skewness has been removed"
   ]
  },
  {
   "cell_type": "code",
   "execution_count": 28,
   "id": "de8d45df",
   "metadata": {},
   "outputs": [
    {
     "data": {
      "text/plain": [
       "{'whiskers': [<matplotlib.lines.Line2D at 0x11e426850>,\n",
       "  <matplotlib.lines.Line2D at 0x11e426bb0>],\n",
       " 'caps': [<matplotlib.lines.Line2D at 0x11e426f10>,\n",
       "  <matplotlib.lines.Line2D at 0x11e6932b0>],\n",
       " 'boxes': [<matplotlib.lines.Line2D at 0x11e4264f0>],\n",
       " 'medians': [<matplotlib.lines.Line2D at 0x11e6935e0>],\n",
       " 'fliers': [<matplotlib.lines.Line2D at 0x11e693910>],\n",
       " 'means': []}"
      ]
     },
     "execution_count": 28,
     "metadata": {},
     "output_type": "execute_result"
    },
    {
     "data": {
      "image/png": "[encoded data removed]",
      "text/plain": [
       "<Figure size 432x288 with 1 Axes>"
      ]
     },
     "metadata": {
      "needs_background": "light"
     },
     "output_type": "display_data"
    }
   ],
   "source": [
    "#CHECKING OUTLIERS\n",
    "plt.boxplot(df['Diameter'])"
   ]
  },
  {
   "cell_type": "code",
   "execution_count": 29,
   "id": "9ac3d287",
   "metadata": {},
   "outputs": [
    {
     "data": {
      "text/plain": [
       "{'whiskers': [<matplotlib.lines.Line2D at 0x11e75d160>,\n",
       "  <matplotlib.lines.Line2D at 0x11e75d4c0>],\n",
       " 'caps': [<matplotlib.lines.Line2D at 0x11e75d820>,\n",
       "  <matplotlib.lines.Line2D at 0x11e75db80>],\n",
       " 'boxes': [<matplotlib.lines.Line2D at 0x11e74cdc0>],\n",
       " 'medians': [<matplotlib.lines.Line2D at 0x11e75dee0>],\n",
       " 'fliers': [<matplotlib.lines.Line2D at 0x11e767280>],\n",
       " 'means': []}"
      ]
     },
     "execution_count": 29,
     "metadata": {},
     "output_type": "execute_result"
    },
    {
     "data": {
      "image/png": "[encoded data removed]",
      "text/plain": [
       "<Figure size 432x288 with 1 Axes>"
      ]
     },
     "metadata": {
      "needs_background": "light"
     },
     "output_type": "display_data"
    }
   ],
   "source": [
    "plt.boxplot(df['Height'])"
   ]
  },
  {
   "cell_type": "code",
   "execution_count": 30,
   "id": "d2f5b5a4",
   "metadata": {},
   "outputs": [
    {
     "data": {
      "text/plain": [
       "{'whiskers': [<matplotlib.lines.Line2D at 0x11e26ea90>,\n",
       "  <matplotlib.lines.Line2D at 0x11e26e5e0>],\n",
       " 'caps': [<matplotlib.lines.Line2D at 0x11e165160>,\n",
       "  <matplotlib.lines.Line2D at 0x11e1ddd00>],\n",
       " 'boxes': [<matplotlib.lines.Line2D at 0x11e1c6bb0>],\n",
       " 'medians': [<matplotlib.lines.Line2D at 0x11e79eb50>],\n",
       " 'fliers': [<matplotlib.lines.Line2D at 0x11e779d60>],\n",
       " 'means': []}"
      ]
     },
     "execution_count": 30,
     "metadata": {},
     "output_type": "execute_result"
    },
    {
     "data": {
      "image/png": "[encoded data removed]",
      "text/plain": [
       "<Figure size 432x288 with 1 Axes>"
      ]
     },
     "metadata": {
      "needs_background": "light"
     },
     "output_type": "display_data"
    }
   ],
   "source": [
    "plt.boxplot(df['Whole weight'])"
   ]
  },
  {
   "cell_type": "code",
   "execution_count": 31,
   "id": "12313dae",
   "metadata": {},
   "outputs": [
    {
     "data": {
      "text/plain": [
       "{'whiskers': [<matplotlib.lines.Line2D at 0x11e5e11f0>,\n",
       "  <matplotlib.lines.Line2D at 0x11e5e1fa0>],\n",
       " 'caps': [<matplotlib.lines.Line2D at 0x11e5e12e0>,\n",
       "  <matplotlib.lines.Line2D at 0x11e612c40>],\n",
       " 'boxes': [<matplotlib.lines.Line2D at 0x11e5e1b80>],\n",
       " 'medians': [<matplotlib.lines.Line2D at 0x11e612220>],\n",
       " 'fliers': [<matplotlib.lines.Line2D at 0x11e6125b0>],\n",
       " 'means': []}"
      ]
     },
     "execution_count": 31,
     "metadata": {},
     "output_type": "execute_result"
    },
    {
     "data": {
      "image/png": "[encoded data removed]",
      "text/plain": [
       "<Figure size 432x288 with 1 Axes>"
      ]
     },
     "metadata": {
      "needs_background": "light"
     },
     "output_type": "display_data"
    }
   ],
   "source": [
    "plt.boxplot(df['Viscera weight'])"
   ]
  },
  {
   "cell_type": "code",
   "execution_count": 32,
   "id": "2c8f0076",
   "metadata": {},
   "outputs": [
    {
     "data": {
      "text/plain": [
       "{'whiskers': [<matplotlib.lines.Line2D at 0x11e27e340>,\n",
       "  <matplotlib.lines.Line2D at 0x11e27eb50>],\n",
       " 'caps': [<matplotlib.lines.Line2D at 0x11e27e5e0>,\n",
       "  <matplotlib.lines.Line2D at 0x11e3f2a30>],\n",
       " 'boxes': [<matplotlib.lines.Line2D at 0x11e2909a0>],\n",
       " 'medians': [<matplotlib.lines.Line2D at 0x11e3f2ac0>],\n",
       " 'fliers': [<matplotlib.lines.Line2D at 0x11e3f21c0>],\n",
       " 'means': []}"
      ]
     },
     "execution_count": 32,
     "metadata": {},
     "output_type": "execute_result"
    },
    {
     "data": {
      "image/png": "[encoded data removed]",
      "text/plain": [
       "<Figure size 432x288 with 1 Axes>"
      ]
     },
     "metadata": {
      "needs_background": "light"
     },
     "output_type": "display_data"
    }
   ],
   "source": [
    "plt.boxplot(df['Shell weight'])"
   ]
  },
  {
   "cell_type": "code",
   "execution_count": 33,
   "id": "ec6b9cad",
   "metadata": {},
   "outputs": [
    {
     "data": {
      "text/plain": [
       "{'whiskers': [<matplotlib.lines.Line2D at 0x11e06c5e0>,\n",
       "  <matplotlib.lines.Line2D at 0x11e06c490>],\n",
       " 'caps': [<matplotlib.lines.Line2D at 0x11e06c220>,\n",
       "  <matplotlib.lines.Line2D at 0x11e06c3d0>],\n",
       " 'boxes': [<matplotlib.lines.Line2D at 0x11e06ce80>],\n",
       " 'medians': [<matplotlib.lines.Line2D at 0x11e067b80>],\n",
       " 'fliers': [<matplotlib.lines.Line2D at 0x11e067940>],\n",
       " 'means': []}"
      ]
     },
     "execution_count": 33,
     "metadata": {},
     "output_type": "execute_result"
    },
    {
     "data": {
      "image/png": "[encoded data removed]",
      "text/plain": [
       "<Figure size 432x288 with 1 Axes>"
      ]
     },
     "metadata": {
      "needs_background": "light"
     },
     "output_type": "display_data"
    }
   ],
   "source": [
    "plt.boxplot(df['Rings'])"
   ]
  },
  {
   "cell_type": "markdown",
   "id": "c63bf2ae",
   "metadata": {},
   "source": [
    "from the above plots we can see that there are outliers present in each column of the dataset. so we will try to remove the outliers to improve the accuracy score of the model."
   ]
  },
  {
   "cell_type": "code",
   "execution_count": 35,
   "id": "c8083b34",
   "metadata": {},
   "outputs": [
    {
     "data": {
      "text/plain": [
       "array([[1.15198011, 0.57455813, 0.43214879, ..., 0.72621157, 0.63821689,\n",
       "        1.57154357],\n",
       "       [1.15198011, 1.44898585, 1.439929  , ..., 1.20522124, 1.21298732,\n",
       "        0.91001299],\n",
       "       [1.28068972, 0.05003309, 0.12213032, ..., 0.35668983, 0.20713907,\n",
       "        0.28962385],\n",
       "       ...,\n",
       "       [1.15198011, 0.6329849 , 0.67640943, ..., 0.97541324, 0.49695471,\n",
       "        0.28962385],\n",
       "       [1.28068972, 0.84118198, 0.77718745, ..., 0.73362741, 0.41073914,\n",
       "        0.02057072],\n",
       "       [1.15198011, 1.54905203, 1.48263359, ..., 1.78744868, 1.84048058,\n",
       "        0.64095986]])"
      ]
     },
     "execution_count": 35,
     "metadata": {},
     "output_type": "execute_result"
    }
   ],
   "source": [
    "#REMOVING OUTLIERS USING ZSCORE\n",
    "from scipy.stats import zscore\n",
    "z=np.abs(zscore(df))\n",
    "z"
   ]
  },
  {
   "cell_type": "markdown",
   "id": "7e0e472a",
   "metadata": {},
   "source": [
    "looking the code and the output above,it is difficult to say which data pointer is an oulier.lets try and define a threshold to identify an outlier."
   ]
  },
  {
   "cell_type": "code",
   "execution_count": 36,
   "id": "c702a64c",
   "metadata": {},
   "outputs": [
    {
     "name": "stdout",
     "output_type": "stream",
     "text": [
      "(array([   6,   72,   81,   83,  129,  163,  164,  165,  165,  165,  166,\n",
      "        166,  167,  168,  170,  181,  232,  236,  236,  236,  237,  237,\n",
      "        238,  238,  239,  270,  275,  277,  278,  294,  310,  313,  314,\n",
      "        334,  351,  355,  358,  358,  362,  375,  416,  417,  428,  431,\n",
      "        433,  469,  478,  480,  501,  526,  526,  530,  572,  628,  673,\n",
      "        674,  675,  678,  694,  696,  696,  719,  719,  720,  720,  744,\n",
      "        754,  756,  811,  891,  891,  891, 1048, 1051, 1051, 1052, 1193,\n",
      "       1197, 1199, 1202, 1204, 1206, 1206, 1207, 1207, 1207, 1207, 1209,\n",
      "       1209, 1257, 1417, 1417, 1418, 1422, 1426, 1427, 1427, 1427, 1428,\n",
      "       1429, 1429, 1528, 1754, 1756, 1757, 1759, 1761, 1762, 1762, 1762,\n",
      "       1763, 1763, 1763, 1821, 1982, 1986, 1987, 1987, 2051, 2090, 2108,\n",
      "       2108, 2114, 2114, 2157, 2161, 2176, 2180, 2199, 2201, 2208, 2209,\n",
      "       2274, 2275, 2305, 2334, 2334, 2334, 2335, 2344, 2358, 2368, 2381,\n",
      "       2436, 2459, 2471, 2544, 2623, 2624, 2624, 2624, 2625, 2709, 2710,\n",
      "       2710, 2810, 2810, 2811, 2811, 2811, 2862, 2863, 2863, 2863, 3007,\n",
      "       3008, 3140, 3148, 3149, 3149, 3151, 3151, 3188, 3193, 3280, 3359,\n",
      "       3427, 3427, 3427, 3599, 3599, 3628, 3713, 3715, 3715, 3715, 3715,\n",
      "       3800, 3837, 3899, 3899, 3902, 3924, 3930, 3944, 3961, 3962, 3996,\n",
      "       4145, 4148]), array([8, 8, 7, 8, 7, 7, 7, 4, 5, 7, 7, 8, 8, 7, 6, 8, 8, 1, 2, 3, 1, 2,\n",
      "       1, 2, 1, 8, 8, 7, 8, 8, 8, 8, 8, 7, 8, 8, 4, 7, 8, 8, 8, 8, 8, 8,\n",
      "       8, 8, 8, 8, 8, 1, 2, 8, 8, 8, 8, 8, 8, 8, 2, 1, 2, 1, 2, 1, 2, 8,\n",
      "       8, 8, 8, 4, 5, 7, 6, 4, 5, 4, 5, 5, 5, 5, 6, 5, 6, 4, 5, 6, 7, 4,\n",
      "       5, 3, 3, 5, 5, 6, 5, 4, 5, 6, 7, 1, 2, 5, 5, 5, 6, 6, 5, 4, 5, 6,\n",
      "       4, 5, 6, 5, 5, 1, 1, 2, 3, 7, 7, 8, 1, 2, 7, 7, 8, 8, 8, 8, 7, 8,\n",
      "       7, 8, 8, 4, 6, 8, 8, 8, 8, 7, 1, 8, 8, 8, 5, 4, 4, 5, 6, 5, 6, 5,\n",
      "       6, 5, 6, 4, 5, 6, 5, 4, 5, 6, 5, 7, 8, 7, 7, 8, 7, 8, 7, 8, 8, 8,\n",
      "       4, 5, 6, 4, 5, 6, 5, 4, 5, 6, 7, 4, 2, 1, 2, 1, 8, 8, 8, 5, 5, 3,\n",
      "       7, 6]))\n"
     ]
    }
   ],
   "source": [
    "threshold=3\n",
    "print(np.where(z>3))"
   ]
  },
  {
   "cell_type": "code",
   "execution_count": 37,
   "id": "8b2f5e83",
   "metadata": {},
   "outputs": [
    {
     "data": {
      "text/plain": [
       "0.35668983027099027"
      ]
     },
     "execution_count": 37,
     "metadata": {},
     "output_type": "execute_result"
    }
   ],
   "source": [
    "#array 1 is holding the row number and array two is holding the column\n",
    "z[6][6]"
   ]
  },
  {
   "cell_type": "code",
   "execution_count": 38,
   "id": "da27202a",
   "metadata": {},
   "outputs": [
    {
     "data": {
      "text/plain": [
       "0.40516364050565146"
      ]
     },
     "execution_count": 38,
     "metadata": {},
     "output_type": "execute_result"
    }
   ],
   "source": [
    "z[72][6]"
   ]
  },
  {
   "cell_type": "code",
   "execution_count": 39,
   "id": "9c130a8a",
   "metadata": {},
   "outputs": [
    {
     "data": {
      "text/plain": [
       "Sex               0.0000\n",
       "Length            0.4500\n",
       "Diameter          0.3500\n",
       "Height            0.1150\n",
       "Whole weight      0.4415\n",
       "Shucked weight    0.1860\n",
       "Viscera weight    0.0935\n",
       "Shell weight      0.1300\n",
       "Rings             8.0000\n",
       "Name: 0.25, dtype: float64"
      ]
     },
     "execution_count": 39,
     "metadata": {},
     "output_type": "execute_result"
    }
   ],
   "source": [
    "#IQR SCORE(INTERQUARTILE RANGE)\n",
    "Q1=df.quantile(0.25)\n",
    "Q1"
   ]
  },
  {
   "cell_type": "code",
   "execution_count": 40,
   "id": "88550b69",
   "metadata": {},
   "outputs": [
    {
     "data": {
      "text/plain": [
       "Sex                2.000\n",
       "Length             0.615\n",
       "Diameter           0.480\n",
       "Height             0.165\n",
       "Whole weight       1.153\n",
       "Shucked weight     0.502\n",
       "Viscera weight     0.253\n",
       "Shell weight       0.329\n",
       "Rings             11.000\n",
       "Name: 0.75, dtype: float64"
      ]
     },
     "execution_count": 40,
     "metadata": {},
     "output_type": "execute_result"
    }
   ],
   "source": [
    "Q3=df.quantile(0.75)\n",
    "Q3"
   ]
  },
  {
   "cell_type": "code",
   "execution_count": 41,
   "id": "f4c518ac",
   "metadata": {},
   "outputs": [
    {
     "data": {
      "text/plain": [
       "Sex               2.0000\n",
       "Length            0.1650\n",
       "Diameter          0.1300\n",
       "Height            0.0500\n",
       "Whole weight      0.7115\n",
       "Shucked weight    0.3160\n",
       "Viscera weight    0.1595\n",
       "Shell weight      0.1990\n",
       "Rings             3.0000\n",
       "dtype: float64"
      ]
     },
     "execution_count": 41,
     "metadata": {},
     "output_type": "execute_result"
    }
   ],
   "source": [
    "IQR=Q3-Q1\n",
    "IQR"
   ]
  },
  {
   "cell_type": "code",
   "execution_count": 43,
   "id": "3656030e",
   "metadata": {},
   "outputs": [
    {
     "data": {
      "text/html": [
       "<div>\n",
       "<style scoped>\n",
       "    .dataframe tbody tr th:only-of-type {\n",
       "        vertical-align: middle;\n",
       "    }\n",
       "\n",
       "    .dataframe tbody tr th {\n",
       "        vertical-align: top;\n",
       "    }\n",
       "\n",
       "    .dataframe thead th {\n",
       "        text-align: right;\n",
       "    }\n",
       "</style>\n",
       "<table border=\"1\" class=\"dataframe\">\n",
       "  <thead>\n",
       "    <tr style=\"text-align: right;\">\n",
       "      <th></th>\n",
       "      <th>Sex</th>\n",
       "      <th>Length</th>\n",
       "      <th>Diameter</th>\n",
       "      <th>Height</th>\n",
       "      <th>Whole weight</th>\n",
       "      <th>Shucked weight</th>\n",
       "      <th>Viscera weight</th>\n",
       "      <th>Shell weight</th>\n",
       "      <th>Rings</th>\n",
       "    </tr>\n",
       "  </thead>\n",
       "  <tbody>\n",
       "    <tr>\n",
       "      <th>0</th>\n",
       "      <td>2</td>\n",
       "      <td>0.455</td>\n",
       "      <td>0.365</td>\n",
       "      <td>0.095</td>\n",
       "      <td>0.5140</td>\n",
       "      <td>0.2245</td>\n",
       "      <td>0.1010</td>\n",
       "      <td>0.1500</td>\n",
       "      <td>15</td>\n",
       "    </tr>\n",
       "    <tr>\n",
       "      <th>1</th>\n",
       "      <td>2</td>\n",
       "      <td>0.350</td>\n",
       "      <td>0.265</td>\n",
       "      <td>0.090</td>\n",
       "      <td>0.2255</td>\n",
       "      <td>0.0995</td>\n",
       "      <td>0.0485</td>\n",
       "      <td>0.0700</td>\n",
       "      <td>7</td>\n",
       "    </tr>\n",
       "    <tr>\n",
       "      <th>2</th>\n",
       "      <td>0</td>\n",
       "      <td>0.530</td>\n",
       "      <td>0.420</td>\n",
       "      <td>0.135</td>\n",
       "      <td>0.6770</td>\n",
       "      <td>0.2565</td>\n",
       "      <td>0.1415</td>\n",
       "      <td>0.2100</td>\n",
       "      <td>9</td>\n",
       "    </tr>\n",
       "    <tr>\n",
       "      <th>3</th>\n",
       "      <td>2</td>\n",
       "      <td>0.440</td>\n",
       "      <td>0.365</td>\n",
       "      <td>0.125</td>\n",
       "      <td>0.5160</td>\n",
       "      <td>0.2155</td>\n",
       "      <td>0.1140</td>\n",
       "      <td>0.1550</td>\n",
       "      <td>10</td>\n",
       "    </tr>\n",
       "    <tr>\n",
       "      <th>4</th>\n",
       "      <td>1</td>\n",
       "      <td>0.330</td>\n",
       "      <td>0.255</td>\n",
       "      <td>0.080</td>\n",
       "      <td>0.2050</td>\n",
       "      <td>0.0895</td>\n",
       "      <td>0.0395</td>\n",
       "      <td>0.0550</td>\n",
       "      <td>7</td>\n",
       "    </tr>\n",
       "    <tr>\n",
       "      <th>...</th>\n",
       "      <td>...</td>\n",
       "      <td>...</td>\n",
       "      <td>...</td>\n",
       "      <td>...</td>\n",
       "      <td>...</td>\n",
       "      <td>...</td>\n",
       "      <td>...</td>\n",
       "      <td>...</td>\n",
       "      <td>...</td>\n",
       "    </tr>\n",
       "    <tr>\n",
       "      <th>4172</th>\n",
       "      <td>0</td>\n",
       "      <td>0.565</td>\n",
       "      <td>0.450</td>\n",
       "      <td>0.165</td>\n",
       "      <td>0.8870</td>\n",
       "      <td>0.3700</td>\n",
       "      <td>0.2390</td>\n",
       "      <td>0.2490</td>\n",
       "      <td>11</td>\n",
       "    </tr>\n",
       "    <tr>\n",
       "      <th>4173</th>\n",
       "      <td>2</td>\n",
       "      <td>0.590</td>\n",
       "      <td>0.440</td>\n",
       "      <td>0.135</td>\n",
       "      <td>0.9660</td>\n",
       "      <td>0.4390</td>\n",
       "      <td>0.2145</td>\n",
       "      <td>0.2605</td>\n",
       "      <td>10</td>\n",
       "    </tr>\n",
       "    <tr>\n",
       "      <th>4174</th>\n",
       "      <td>2</td>\n",
       "      <td>0.600</td>\n",
       "      <td>0.475</td>\n",
       "      <td>0.205</td>\n",
       "      <td>1.1760</td>\n",
       "      <td>0.5255</td>\n",
       "      <td>0.2875</td>\n",
       "      <td>0.3080</td>\n",
       "      <td>9</td>\n",
       "    </tr>\n",
       "    <tr>\n",
       "      <th>4175</th>\n",
       "      <td>0</td>\n",
       "      <td>0.625</td>\n",
       "      <td>0.485</td>\n",
       "      <td>0.150</td>\n",
       "      <td>1.0945</td>\n",
       "      <td>0.5310</td>\n",
       "      <td>0.2610</td>\n",
       "      <td>0.2960</td>\n",
       "      <td>10</td>\n",
       "    </tr>\n",
       "    <tr>\n",
       "      <th>4176</th>\n",
       "      <td>2</td>\n",
       "      <td>0.710</td>\n",
       "      <td>0.555</td>\n",
       "      <td>0.195</td>\n",
       "      <td>1.9485</td>\n",
       "      <td>0.9455</td>\n",
       "      <td>0.3765</td>\n",
       "      <td>0.4950</td>\n",
       "      <td>12</td>\n",
       "    </tr>\n",
       "  </tbody>\n",
       "</table>\n",
       "<p>4027 rows × 9 columns</p>\n",
       "</div>"
      ],
      "text/plain": [
       "      Sex  Length  Diameter  Height  Whole weight  Shucked weight  \\\n",
       "0       2   0.455     0.365   0.095        0.5140          0.2245   \n",
       "1       2   0.350     0.265   0.090        0.2255          0.0995   \n",
       "2       0   0.530     0.420   0.135        0.6770          0.2565   \n",
       "3       2   0.440     0.365   0.125        0.5160          0.2155   \n",
       "4       1   0.330     0.255   0.080        0.2050          0.0895   \n",
       "...   ...     ...       ...     ...           ...             ...   \n",
       "4172    0   0.565     0.450   0.165        0.8870          0.3700   \n",
       "4173    2   0.590     0.440   0.135        0.9660          0.4390   \n",
       "4174    2   0.600     0.475   0.205        1.1760          0.5255   \n",
       "4175    0   0.625     0.485   0.150        1.0945          0.5310   \n",
       "4176    2   0.710     0.555   0.195        1.9485          0.9455   \n",
       "\n",
       "      Viscera weight  Shell weight  Rings  \n",
       "0             0.1010        0.1500     15  \n",
       "1             0.0485        0.0700      7  \n",
       "2             0.1415        0.2100      9  \n",
       "3             0.1140        0.1550     10  \n",
       "4             0.0395        0.0550      7  \n",
       "...              ...           ...    ...  \n",
       "4172          0.2390        0.2490     11  \n",
       "4173          0.2145        0.2605     10  \n",
       "4174          0.2875        0.3080      9  \n",
       "4175          0.2610        0.2960     10  \n",
       "4176          0.3765        0.4950     12  \n",
       "\n",
       "[4027 rows x 9 columns]"
      ]
     },
     "execution_count": 43,
     "metadata": {},
     "output_type": "execute_result"
    }
   ],
   "source": [
    "df_new=df[(z<3).all(axis=1)]\n",
    "df_new"
   ]
  },
  {
   "cell_type": "code",
   "execution_count": 44,
   "id": "8c59276c",
   "metadata": {},
   "outputs": [
    {
     "data": {
      "text/plain": [
       "(4177, 9)"
      ]
     },
     "execution_count": 44,
     "metadata": {},
     "output_type": "execute_result"
    }
   ],
   "source": [
    "df.shape"
   ]
  },
  {
   "cell_type": "code",
   "execution_count": 45,
   "id": "23daeb91",
   "metadata": {},
   "outputs": [
    {
     "data": {
      "text/plain": [
       "(4027, 9)"
      ]
     },
     "execution_count": 45,
     "metadata": {},
     "output_type": "execute_result"
    }
   ],
   "source": [
    "df_new.shape"
   ]
  },
  {
   "cell_type": "code",
   "execution_count": 48,
   "id": "b3e32a92",
   "metadata": {},
   "outputs": [
    {
     "data": {
      "text/html": [
       "<div>\n",
       "<style scoped>\n",
       "    .dataframe tbody tr th:only-of-type {\n",
       "        vertical-align: middle;\n",
       "    }\n",
       "\n",
       "    .dataframe tbody tr th {\n",
       "        vertical-align: top;\n",
       "    }\n",
       "\n",
       "    .dataframe thead th {\n",
       "        text-align: right;\n",
       "    }\n",
       "</style>\n",
       "<table border=\"1\" class=\"dataframe\">\n",
       "  <thead>\n",
       "    <tr style=\"text-align: right;\">\n",
       "      <th></th>\n",
       "      <th>Sex</th>\n",
       "      <th>Length</th>\n",
       "      <th>Diameter</th>\n",
       "      <th>Height</th>\n",
       "      <th>Whole weight</th>\n",
       "      <th>Shucked weight</th>\n",
       "      <th>Viscera weight</th>\n",
       "      <th>Shell weight</th>\n",
       "    </tr>\n",
       "  </thead>\n",
       "  <tbody>\n",
       "    <tr>\n",
       "      <th>0</th>\n",
       "      <td>2</td>\n",
       "      <td>0.455</td>\n",
       "      <td>0.365</td>\n",
       "      <td>0.095</td>\n",
       "      <td>0.5140</td>\n",
       "      <td>0.2245</td>\n",
       "      <td>0.1010</td>\n",
       "      <td>0.1500</td>\n",
       "    </tr>\n",
       "    <tr>\n",
       "      <th>1</th>\n",
       "      <td>2</td>\n",
       "      <td>0.350</td>\n",
       "      <td>0.265</td>\n",
       "      <td>0.090</td>\n",
       "      <td>0.2255</td>\n",
       "      <td>0.0995</td>\n",
       "      <td>0.0485</td>\n",
       "      <td>0.0700</td>\n",
       "    </tr>\n",
       "    <tr>\n",
       "      <th>2</th>\n",
       "      <td>0</td>\n",
       "      <td>0.530</td>\n",
       "      <td>0.420</td>\n",
       "      <td>0.135</td>\n",
       "      <td>0.6770</td>\n",
       "      <td>0.2565</td>\n",
       "      <td>0.1415</td>\n",
       "      <td>0.2100</td>\n",
       "    </tr>\n",
       "    <tr>\n",
       "      <th>3</th>\n",
       "      <td>2</td>\n",
       "      <td>0.440</td>\n",
       "      <td>0.365</td>\n",
       "      <td>0.125</td>\n",
       "      <td>0.5160</td>\n",
       "      <td>0.2155</td>\n",
       "      <td>0.1140</td>\n",
       "      <td>0.1550</td>\n",
       "    </tr>\n",
       "    <tr>\n",
       "      <th>4</th>\n",
       "      <td>1</td>\n",
       "      <td>0.330</td>\n",
       "      <td>0.255</td>\n",
       "      <td>0.080</td>\n",
       "      <td>0.2050</td>\n",
       "      <td>0.0895</td>\n",
       "      <td>0.0395</td>\n",
       "      <td>0.0550</td>\n",
       "    </tr>\n",
       "    <tr>\n",
       "      <th>...</th>\n",
       "      <td>...</td>\n",
       "      <td>...</td>\n",
       "      <td>...</td>\n",
       "      <td>...</td>\n",
       "      <td>...</td>\n",
       "      <td>...</td>\n",
       "      <td>...</td>\n",
       "      <td>...</td>\n",
       "    </tr>\n",
       "    <tr>\n",
       "      <th>4172</th>\n",
       "      <td>0</td>\n",
       "      <td>0.565</td>\n",
       "      <td>0.450</td>\n",
       "      <td>0.165</td>\n",
       "      <td>0.8870</td>\n",
       "      <td>0.3700</td>\n",
       "      <td>0.2390</td>\n",
       "      <td>0.2490</td>\n",
       "    </tr>\n",
       "    <tr>\n",
       "      <th>4173</th>\n",
       "      <td>2</td>\n",
       "      <td>0.590</td>\n",
       "      <td>0.440</td>\n",
       "      <td>0.135</td>\n",
       "      <td>0.9660</td>\n",
       "      <td>0.4390</td>\n",
       "      <td>0.2145</td>\n",
       "      <td>0.2605</td>\n",
       "    </tr>\n",
       "    <tr>\n",
       "      <th>4174</th>\n",
       "      <td>2</td>\n",
       "      <td>0.600</td>\n",
       "      <td>0.475</td>\n",
       "      <td>0.205</td>\n",
       "      <td>1.1760</td>\n",
       "      <td>0.5255</td>\n",
       "      <td>0.2875</td>\n",
       "      <td>0.3080</td>\n",
       "    </tr>\n",
       "    <tr>\n",
       "      <th>4175</th>\n",
       "      <td>0</td>\n",
       "      <td>0.625</td>\n",
       "      <td>0.485</td>\n",
       "      <td>0.150</td>\n",
       "      <td>1.0945</td>\n",
       "      <td>0.5310</td>\n",
       "      <td>0.2610</td>\n",
       "      <td>0.2960</td>\n",
       "    </tr>\n",
       "    <tr>\n",
       "      <th>4176</th>\n",
       "      <td>2</td>\n",
       "      <td>0.710</td>\n",
       "      <td>0.555</td>\n",
       "      <td>0.195</td>\n",
       "      <td>1.9485</td>\n",
       "      <td>0.9455</td>\n",
       "      <td>0.3765</td>\n",
       "      <td>0.4950</td>\n",
       "    </tr>\n",
       "  </tbody>\n",
       "</table>\n",
       "<p>4027 rows × 8 columns</p>\n",
       "</div>"
      ],
      "text/plain": [
       "      Sex  Length  Diameter  Height  Whole weight  Shucked weight  \\\n",
       "0       2   0.455     0.365   0.095        0.5140          0.2245   \n",
       "1       2   0.350     0.265   0.090        0.2255          0.0995   \n",
       "2       0   0.530     0.420   0.135        0.6770          0.2565   \n",
       "3       2   0.440     0.365   0.125        0.5160          0.2155   \n",
       "4       1   0.330     0.255   0.080        0.2050          0.0895   \n",
       "...   ...     ...       ...     ...           ...             ...   \n",
       "4172    0   0.565     0.450   0.165        0.8870          0.3700   \n",
       "4173    2   0.590     0.440   0.135        0.9660          0.4390   \n",
       "4174    2   0.600     0.475   0.205        1.1760          0.5255   \n",
       "4175    0   0.625     0.485   0.150        1.0945          0.5310   \n",
       "4176    2   0.710     0.555   0.195        1.9485          0.9455   \n",
       "\n",
       "      Viscera weight  Shell weight  \n",
       "0             0.1010        0.1500  \n",
       "1             0.0485        0.0700  \n",
       "2             0.1415        0.2100  \n",
       "3             0.1140        0.1550  \n",
       "4             0.0395        0.0550  \n",
       "...              ...           ...  \n",
       "4172          0.2390        0.2490  \n",
       "4173          0.2145        0.2605  \n",
       "4174          0.2875        0.3080  \n",
       "4175          0.2610        0.2960  \n",
       "4176          0.3765        0.4950  \n",
       "\n",
       "[4027 rows x 8 columns]"
      ]
     },
     "execution_count": 48,
     "metadata": {},
     "output_type": "execute_result"
    }
   ],
   "source": [
    "x1=df_new.iloc[:,0:-1]\n",
    "x1"
   ]
  },
  {
   "cell_type": "code",
   "execution_count": 50,
   "id": "72f99821",
   "metadata": {},
   "outputs": [
    {
     "data": {
      "text/plain": [
       "0       15\n",
       "1        7\n",
       "2        9\n",
       "3       10\n",
       "4        7\n",
       "        ..\n",
       "4172    11\n",
       "4173    10\n",
       "4174     9\n",
       "4175    10\n",
       "4176    12\n",
       "Name: Rings, Length: 4027, dtype: int64"
      ]
     },
     "execution_count": 50,
     "metadata": {},
     "output_type": "execute_result"
    }
   ],
   "source": [
    "y1=df_new.iloc[:,-1]\n",
    "y1"
   ]
  },
  {
   "cell_type": "code",
   "execution_count": 51,
   "id": "a90dab65",
   "metadata": {},
   "outputs": [],
   "source": [
    "#VIF(VARIANCE INFLATION FACTOR)\n",
    "def vif_calc():\n",
    "    vif=pd.DataFrame()\n",
    "    vif['VIF Factor']=[variance_inflation_factor(x1.values,i) for i in range(x1.shape[1])]\n",
    "    vif['features']=x.columns\n",
    "    print(vif)"
   ]
  },
  {
   "cell_type": "code",
   "execution_count": 52,
   "id": "a4a0944b",
   "metadata": {},
   "outputs": [
    {
     "name": "stdout",
     "output_type": "stream",
     "text": [
      "   VIF Factor        features\n",
      "0    2.586539             Sex\n",
      "1  711.017756          Length\n",
      "2  762.862946        Diameter\n",
      "3   92.050181          Height\n",
      "4  441.600560    Whole weight\n",
      "5  108.511496  Shucked weight\n",
      "6   65.669278  Viscera weight\n",
      "7   94.849108    Shell weight\n"
     ]
    }
   ],
   "source": [
    "vif_calc()"
   ]
  },
  {
   "cell_type": "markdown",
   "id": "21d4f912",
   "metadata": {},
   "source": [
    "So from the above code it is observed that lenght and diameter and whole weight and shucked weight are having multicolinearity.so we can drop the column which is less contributing towards the output. Here length and shucked weight are less contributing so we can drop these two."
   ]
  },
  {
   "cell_type": "code",
   "execution_count": 54,
   "id": "3b23c5e0",
   "metadata": {},
   "outputs": [],
   "source": [
    "df_new.drop(['Length','Shucked weight'],axis=1,inplace=True)"
   ]
  },
  {
   "cell_type": "code",
   "execution_count": 55,
   "id": "63926b4d",
   "metadata": {},
   "outputs": [
    {
     "data": {
      "text/html": [
       "<div>\n",
       "<style scoped>\n",
       "    .dataframe tbody tr th:only-of-type {\n",
       "        vertical-align: middle;\n",
       "    }\n",
       "\n",
       "    .dataframe tbody tr th {\n",
       "        vertical-align: top;\n",
       "    }\n",
       "\n",
       "    .dataframe thead th {\n",
       "        text-align: right;\n",
       "    }\n",
       "</style>\n",
       "<table border=\"1\" class=\"dataframe\">\n",
       "  <thead>\n",
       "    <tr style=\"text-align: right;\">\n",
       "      <th></th>\n",
       "      <th>Sex</th>\n",
       "      <th>Diameter</th>\n",
       "      <th>Height</th>\n",
       "      <th>Whole weight</th>\n",
       "      <th>Viscera weight</th>\n",
       "      <th>Shell weight</th>\n",
       "      <th>Rings</th>\n",
       "    </tr>\n",
       "  </thead>\n",
       "  <tbody>\n",
       "    <tr>\n",
       "      <th>0</th>\n",
       "      <td>2</td>\n",
       "      <td>0.365</td>\n",
       "      <td>0.095</td>\n",
       "      <td>0.5140</td>\n",
       "      <td>0.1010</td>\n",
       "      <td>0.1500</td>\n",
       "      <td>15</td>\n",
       "    </tr>\n",
       "    <tr>\n",
       "      <th>1</th>\n",
       "      <td>2</td>\n",
       "      <td>0.265</td>\n",
       "      <td>0.090</td>\n",
       "      <td>0.2255</td>\n",
       "      <td>0.0485</td>\n",
       "      <td>0.0700</td>\n",
       "      <td>7</td>\n",
       "    </tr>\n",
       "    <tr>\n",
       "      <th>2</th>\n",
       "      <td>0</td>\n",
       "      <td>0.420</td>\n",
       "      <td>0.135</td>\n",
       "      <td>0.6770</td>\n",
       "      <td>0.1415</td>\n",
       "      <td>0.2100</td>\n",
       "      <td>9</td>\n",
       "    </tr>\n",
       "    <tr>\n",
       "      <th>3</th>\n",
       "      <td>2</td>\n",
       "      <td>0.365</td>\n",
       "      <td>0.125</td>\n",
       "      <td>0.5160</td>\n",
       "      <td>0.1140</td>\n",
       "      <td>0.1550</td>\n",
       "      <td>10</td>\n",
       "    </tr>\n",
       "    <tr>\n",
       "      <th>4</th>\n",
       "      <td>1</td>\n",
       "      <td>0.255</td>\n",
       "      <td>0.080</td>\n",
       "      <td>0.2050</td>\n",
       "      <td>0.0395</td>\n",
       "      <td>0.0550</td>\n",
       "      <td>7</td>\n",
       "    </tr>\n",
       "    <tr>\n",
       "      <th>...</th>\n",
       "      <td>...</td>\n",
       "      <td>...</td>\n",
       "      <td>...</td>\n",
       "      <td>...</td>\n",
       "      <td>...</td>\n",
       "      <td>...</td>\n",
       "      <td>...</td>\n",
       "    </tr>\n",
       "    <tr>\n",
       "      <th>4172</th>\n",
       "      <td>0</td>\n",
       "      <td>0.450</td>\n",
       "      <td>0.165</td>\n",
       "      <td>0.8870</td>\n",
       "      <td>0.2390</td>\n",
       "      <td>0.2490</td>\n",
       "      <td>11</td>\n",
       "    </tr>\n",
       "    <tr>\n",
       "      <th>4173</th>\n",
       "      <td>2</td>\n",
       "      <td>0.440</td>\n",
       "      <td>0.135</td>\n",
       "      <td>0.9660</td>\n",
       "      <td>0.2145</td>\n",
       "      <td>0.2605</td>\n",
       "      <td>10</td>\n",
       "    </tr>\n",
       "    <tr>\n",
       "      <th>4174</th>\n",
       "      <td>2</td>\n",
       "      <td>0.475</td>\n",
       "      <td>0.205</td>\n",
       "      <td>1.1760</td>\n",
       "      <td>0.2875</td>\n",
       "      <td>0.3080</td>\n",
       "      <td>9</td>\n",
       "    </tr>\n",
       "    <tr>\n",
       "      <th>4175</th>\n",
       "      <td>0</td>\n",
       "      <td>0.485</td>\n",
       "      <td>0.150</td>\n",
       "      <td>1.0945</td>\n",
       "      <td>0.2610</td>\n",
       "      <td>0.2960</td>\n",
       "      <td>10</td>\n",
       "    </tr>\n",
       "    <tr>\n",
       "      <th>4176</th>\n",
       "      <td>2</td>\n",
       "      <td>0.555</td>\n",
       "      <td>0.195</td>\n",
       "      <td>1.9485</td>\n",
       "      <td>0.3765</td>\n",
       "      <td>0.4950</td>\n",
       "      <td>12</td>\n",
       "    </tr>\n",
       "  </tbody>\n",
       "</table>\n",
       "<p>4027 rows × 7 columns</p>\n",
       "</div>"
      ],
      "text/plain": [
       "      Sex  Diameter  Height  Whole weight  Viscera weight  Shell weight  Rings\n",
       "0       2     0.365   0.095        0.5140          0.1010        0.1500     15\n",
       "1       2     0.265   0.090        0.2255          0.0485        0.0700      7\n",
       "2       0     0.420   0.135        0.6770          0.1415        0.2100      9\n",
       "3       2     0.365   0.125        0.5160          0.1140        0.1550     10\n",
       "4       1     0.255   0.080        0.2050          0.0395        0.0550      7\n",
       "...   ...       ...     ...           ...             ...           ...    ...\n",
       "4172    0     0.450   0.165        0.8870          0.2390        0.2490     11\n",
       "4173    2     0.440   0.135        0.9660          0.2145        0.2605     10\n",
       "4174    2     0.475   0.205        1.1760          0.2875        0.3080      9\n",
       "4175    0     0.485   0.150        1.0945          0.2610        0.2960     10\n",
       "4176    2     0.555   0.195        1.9485          0.3765        0.4950     12\n",
       "\n",
       "[4027 rows x 7 columns]"
      ]
     },
     "execution_count": 55,
     "metadata": {},
     "output_type": "execute_result"
    }
   ],
   "source": [
    "df_new"
   ]
  },
  {
   "cell_type": "code",
   "execution_count": 56,
   "id": "4cab2b41",
   "metadata": {},
   "outputs": [],
   "source": [
    "#training and testing of model\n",
    "xtrain,xtest,ytrain,ytest=train_test_split(x1,y1,test_size=.20,random_state=152)"
   ]
  },
  {
   "cell_type": "code",
   "execution_count": 57,
   "id": "66c7e9bd",
   "metadata": {},
   "outputs": [
    {
     "data": {
      "text/plain": [
       "(3221, 8)"
      ]
     },
     "execution_count": 57,
     "metadata": {},
     "output_type": "execute_result"
    }
   ],
   "source": [
    "xtrain.shape"
   ]
  },
  {
   "cell_type": "code",
   "execution_count": 58,
   "id": "d391b034",
   "metadata": {},
   "outputs": [
    {
     "data": {
      "text/plain": [
       "(3221, 8)"
      ]
     },
     "execution_count": 58,
     "metadata": {},
     "output_type": "execute_result"
    }
   ],
   "source": [
    "xtrain.shape"
   ]
  },
  {
   "cell_type": "code",
   "execution_count": 59,
   "id": "4cc8687f",
   "metadata": {},
   "outputs": [
    {
     "data": {
      "text/plain": [
       "(806, 8)"
      ]
     },
     "execution_count": 59,
     "metadata": {},
     "output_type": "execute_result"
    }
   ],
   "source": [
    "xtest.shape"
   ]
  },
  {
   "cell_type": "code",
   "execution_count": 60,
   "id": "84346bae",
   "metadata": {},
   "outputs": [
    {
     "data": {
      "text/plain": [
       "(806,)"
      ]
     },
     "execution_count": 60,
     "metadata": {},
     "output_type": "execute_result"
    }
   ],
   "source": [
    "ytest.shape"
   ]
  },
  {
   "cell_type": "code",
   "execution_count": 61,
   "id": "2421d0be",
   "metadata": {},
   "outputs": [
    {
     "name": "stdout",
     "output_type": "stream",
     "text": [
      "0.2543424317617866\n",
      "              precision    recall  f1-score   support\n",
      "\n",
      "           4       0.00      0.00      0.00         9\n",
      "           5       0.25      0.10      0.14        21\n",
      "           6       0.33      0.30      0.31        57\n",
      "           7       0.32      0.30      0.31        92\n",
      "           8       0.21      0.41      0.28       107\n",
      "           9       0.28      0.39      0.33       137\n",
      "          10       0.22      0.31      0.26       124\n",
      "          11       0.24      0.23      0.23        92\n",
      "          12       0.00      0.00      0.00        57\n",
      "          13       0.00      0.00      0.00        41\n",
      "          14       0.00      0.00      0.00        17\n",
      "          15       0.00      0.00      0.00        19\n",
      "          16       0.00      0.00      0.00         9\n",
      "          17       0.00      0.00      0.00         7\n",
      "          18       0.00      0.00      0.00        11\n",
      "          19       0.00      0.00      0.00         6\n",
      "\n",
      "    accuracy                           0.25       806\n",
      "   macro avg       0.12      0.13      0.12       806\n",
      "weighted avg       0.20      0.25      0.22       806\n",
      "\n",
      "[[ 0  5  4  0  0  0  0  0  0  0  0  0  0  0  0  0]\n",
      " [ 0  2 14  3  2  0  0  0  0  0  0  0  0  0  0  0]\n",
      " [ 0  1 17 24 13  0  2  0  0  0  0  0  0  0  0  0]\n",
      " [ 0  0 11 28 47  6  0  0  0  0  0  0  0  0  0  0]\n",
      " [ 0  0  4 12 44 37  9  1  0  0  0  0  0  0  0  0]\n",
      " [ 0  0  1  5 42 54 28  7  0  0  0  0  0  0  0  0]\n",
      " [ 0  0  0  7 19 42 39 17  0  0  0  0  0  0  0  0]\n",
      " [ 0  0  0  4 16 24 27 21  0  0  0  0  0  0  0  0]\n",
      " [ 0  0  0  3 10 11 19 14  0  0  0  0  0  0  0  0]\n",
      " [ 0  0  0  0  5  9 17 10  0  0  0  0  0  0  0  0]\n",
      " [ 0  0  0  1  1  4  7  4  0  0  0  0  0  0  0  0]\n",
      " [ 0  0  0  0  5  3 10  1  0  0  0  0  0  0  0  0]\n",
      " [ 0  0  0  0  0  1  4  4  0  0  0  0  0  0  0  0]\n",
      " [ 0  0  0  0  1  0  3  3  0  0  0  0  0  0  0  0]\n",
      " [ 0  0  0  1  0  2  5  3  0  0  0  0  0  0  0  0]\n",
      " [ 0  0  0  0  0  0  4  2  0  0  0  0  0  0  0  0]]\n"
     ]
    }
   ],
   "source": [
    "#APPLYING ML ALGORITHMS\n",
    "#LogisticRegression\n",
    "lg=LogisticRegression()\n",
    "lg.fit(xtrain,ytrain)\n",
    "predlg=lg.predict(xtest)\n",
    "print(accuracy_score(ytest,predlg))\n",
    "print(classification_report(ytest,predlg))\n",
    "print(confusion_matrix(ytest,predlg))"
   ]
  },
  {
   "cell_type": "code",
   "execution_count": 62,
   "id": "4a7d7ac5",
   "metadata": {},
   "outputs": [
    {
     "name": "stdout",
     "output_type": "stream",
     "text": [
      "0.2543424317617866\n",
      "              precision    recall  f1-score   support\n",
      "\n",
      "           4       0.00      0.00      0.00         9\n",
      "           5       0.25      0.10      0.14        21\n",
      "           6       0.33      0.30      0.31        57\n",
      "           7       0.32      0.30      0.31        92\n",
      "           8       0.21      0.41      0.28       107\n",
      "           9       0.28      0.39      0.33       137\n",
      "          10       0.22      0.31      0.26       124\n",
      "          11       0.24      0.23      0.23        92\n",
      "          12       0.00      0.00      0.00        57\n",
      "          13       0.00      0.00      0.00        41\n",
      "          14       0.00      0.00      0.00        17\n",
      "          15       0.00      0.00      0.00        19\n",
      "          16       0.00      0.00      0.00         9\n",
      "          17       0.00      0.00      0.00         7\n",
      "          18       0.00      0.00      0.00        11\n",
      "          19       0.00      0.00      0.00         6\n",
      "\n",
      "    accuracy                           0.25       806\n",
      "   macro avg       0.12      0.13      0.12       806\n",
      "weighted avg       0.20      0.25      0.22       806\n",
      "\n",
      "[[ 0  5  4  0  0  0  0  0  0  0  0  0  0  0  0  0]\n",
      " [ 0  2 14  3  2  0  0  0  0  0  0  0  0  0  0  0]\n",
      " [ 0  1 17 24 13  0  2  0  0  0  0  0  0  0  0  0]\n",
      " [ 0  0 11 28 47  6  0  0  0  0  0  0  0  0  0  0]\n",
      " [ 0  0  4 12 44 37  9  1  0  0  0  0  0  0  0  0]\n",
      " [ 0  0  1  5 42 54 28  7  0  0  0  0  0  0  0  0]\n",
      " [ 0  0  0  7 19 42 39 17  0  0  0  0  0  0  0  0]\n",
      " [ 0  0  0  4 16 24 27 21  0  0  0  0  0  0  0  0]\n",
      " [ 0  0  0  3 10 11 19 14  0  0  0  0  0  0  0  0]\n",
      " [ 0  0  0  0  5  9 17 10  0  0  0  0  0  0  0  0]\n",
      " [ 0  0  0  1  1  4  7  4  0  0  0  0  0  0  0  0]\n",
      " [ 0  0  0  0  5  3 10  1  0  0  0  0  0  0  0  0]\n",
      " [ 0  0  0  0  0  1  4  4  0  0  0  0  0  0  0  0]\n",
      " [ 0  0  0  0  1  0  3  3  0  0  0  0  0  0  0  0]\n",
      " [ 0  0  0  1  0  2  5  3  0  0  0  0  0  0  0  0]\n",
      " [ 0  0  0  0  0  0  4  2  0  0  0  0  0  0  0  0]]\n"
     ]
    }
   ],
   "source": [
    "#RandomForestClassifier\n",
    "rfc=RandomForestClassifier()\n",
    "rfc.fit(xtrain,ytrain)\n",
    "predrfc=lg.predict(xtest)\n",
    "print(accuracy_score(ytest,predrfc))\n",
    "print(classification_report(ytest,predrfc))\n",
    "print(confusion_matrix(ytest,predrfc))"
   ]
  },
  {
   "cell_type": "code",
   "execution_count": 63,
   "id": "6aaab40b",
   "metadata": {},
   "outputs": [
    {
     "name": "stdout",
     "output_type": "stream",
     "text": [
      "0.25930521091811415\n",
      "              precision    recall  f1-score   support\n",
      "\n",
      "           4       0.00      0.00      0.00         9\n",
      "           5       0.33      0.10      0.15        21\n",
      "           6       0.35      0.35      0.35        57\n",
      "           7       0.41      0.32      0.36        92\n",
      "           8       0.25      0.28      0.27       107\n",
      "           9       0.21      0.50      0.30       137\n",
      "          10       0.25      0.35      0.29       124\n",
      "          11       0.27      0.18      0.22        92\n",
      "          12       0.00      0.00      0.00        57\n",
      "          13       0.00      0.00      0.00        41\n",
      "          14       0.00      0.00      0.00        17\n",
      "          15       0.00      0.00      0.00        19\n",
      "          16       0.00      0.00      0.00         9\n",
      "          17       0.00      0.00      0.00         7\n",
      "          18       0.00      0.00      0.00        11\n",
      "          19       0.00      0.00      0.00         6\n",
      "\n",
      "    accuracy                           0.26       806\n",
      "   macro avg       0.13      0.13      0.12       806\n",
      "weighted avg       0.22      0.26      0.23       806\n",
      "\n",
      "[[ 0  3  5  1  0  0  0  0  0  0  0  0  0  0  0  0]\n",
      " [ 0  2 14  2  0  2  1  0  0  0  0  0  0  0  0  0]\n",
      " [ 0  1 20 23  7  2  4  0  0  0  0  0  0  0  0  0]\n",
      " [ 0  0 15 29 22 25  1  0  0  0  0  0  0  0  0  0]\n",
      " [ 0  0  2 11 30 56  7  1  0  0  0  0  0  0  0  0]\n",
      " [ 0  0  1  2 32 68 28  6  0  0  0  0  0  0  0  0]\n",
      " [ 0  0  0  1 11 58 43 11  0  0  0  0  0  0  0  0]\n",
      " [ 0  0  0  1  6 40 28 17  0  0  0  0  0  0  0  0]\n",
      " [ 0  0  0  0  2 27 17 11  0  0  0  0  0  0  0  0]\n",
      " [ 0  0  0  0  5 17 12  7  0  0  0  0  0  0  0  0]\n",
      " [ 0  0  0  1  0  5  9  2  0  0  0  0  0  0  0  0]\n",
      " [ 0  0  0  0  2 11  5  1  0  0  0  0  0  0  0  0]\n",
      " [ 0  0  0  0  0  2  6  1  0  0  0  0  0  0  0  0]\n",
      " [ 0  0  0  0  0  2  2  3  0  0  0  0  0  0  0  0]\n",
      " [ 0  0  0  0  1  4  6  0  0  0  0  0  0  0  0  0]\n",
      " [ 0  0  0  0  0  2  2  2  0  0  0  0  0  0  0  0]]\n"
     ]
    }
   ],
   "source": [
    "#SUPPORT VECTOR CLASSIFIER\n",
    "svc=SVC()\n",
    "svc.fit(xtrain,ytrain)\n",
    "predsvc=svc.predict(xtest)\n",
    "print(accuracy_score(ytest,predsvc))\n",
    "print(classification_report(ytest,predsvc))\n",
    "print(confusion_matrix(ytest,predsvc))"
   ]
  },
  {
   "cell_type": "code",
   "execution_count": 64,
   "id": "98d3de00",
   "metadata": {},
   "outputs": [
    {
     "name": "stdout",
     "output_type": "stream",
     "text": [
      "cross validation score of logistic regression is 0.26909406068246283\n"
     ]
    }
   ],
   "source": [
    "# CROSS VALIDATION\n",
    "scr=cross_val_score(lg,x,y,cv=5)\n",
    "print('cross validation score of logistic regression is',scr.mean())"
   ]
  },
  {
   "cell_type": "code",
   "execution_count": 66,
   "id": "3e9d1365",
   "metadata": {},
   "outputs": [
    {
     "name": "stdout",
     "output_type": "stream",
     "text": [
      "cross validation score of Random forest classifier is 0.2511457467839441\n"
     ]
    }
   ],
   "source": [
    "scr2=cross_val_score(rfc,x,y,cv=5)\n",
    "print('cross validation score of Random forest classifier is',scr2.mean())"
   ]
  },
  {
   "cell_type": "code",
   "execution_count": 67,
   "id": "c9a10192",
   "metadata": {},
   "outputs": [
    {
     "name": "stdout",
     "output_type": "stream",
     "text": [
      "cross validation score of Support vector classifier is 0.2659805747356961\n"
     ]
    }
   ],
   "source": [
    "scr3=cross_val_score(svc,x,y,cv=5)\n",
    "print('cross validation score of Support vector classifier is',scr3.mean())"
   ]
  },
  {
   "cell_type": "markdown",
   "id": "76aea935",
   "metadata": {},
   "source": [
    "Logistic Regression is performing well among all three so we will go with logistic regression."
   ]
  },
  {
   "cell_type": "code",
   "execution_count": 68,
   "id": "2a9452ad",
   "metadata": {},
   "outputs": [],
   "source": [
    "# HYPERPARAMETER TUNING\n",
    "RandomForestClassifier()\n",
    "parameters={'max_features':[\"auto\", \"sqrt\", \"log2\"],'max_depth':[4,5,6,7,8],'criterion':[\"gini\", \"entropy\"]}"
   ]
  },
  {
   "cell_type": "code",
   "execution_count": 69,
   "id": "7c32dd1f",
   "metadata": {},
   "outputs": [
    {
     "data": {
      "text/plain": [
       "{'criterion': 'entropy', 'max_depth': 5, 'max_features': 'auto'}"
      ]
     },
     "execution_count": 69,
     "metadata": {},
     "output_type": "execute_result"
    }
   ],
   "source": [
    "gcv=GridSearchCV(RandomForestClassifier(),parameters,cv=5,scoring='accuracy')\n",
    "gcv.fit(xtrain,ytrain)\n",
    "gcv.best_params_ #printing the best parameters found by GridSearchCV"
   ]
  },
  {
   "cell_type": "code",
   "execution_count": 70,
   "id": "cc3b40f5",
   "metadata": {},
   "outputs": [
    {
     "data": {
      "text/plain": [
       "0.2642679900744417"
      ]
     },
     "execution_count": 70,
     "metadata": {},
     "output_type": "execute_result"
    }
   ],
   "source": [
    "gcv_pred=gcv.best_estimator_.predict(xtest)\n",
    "accuracy_score(ytest,gcv_pred)"
   ]
  },
  {
   "cell_type": "code",
   "execution_count": 71,
   "id": "350a5906",
   "metadata": {},
   "outputs": [
    {
     "data": {
      "text/plain": [
       "['Abalone.pk1']"
      ]
     },
     "execution_count": 71,
     "metadata": {},
     "output_type": "execute_result"
    }
   ],
   "source": [
    "#SAVING THE BEST MODEL\n",
    "import joblib\n",
    "joblib.dump(gcv.best_estimator_,'Abalone.pk1')"
   ]
  },
  {
   "cell_type": "code",
   "execution_count": null,
   "id": "fc84b90e",
   "metadata": {},
   "outputs": [],
   "source": []
  }
 ],
 "metadata": {
  "kernelspec": {
   "display_name": "Python 3",
   "language": "python",
   "name": "python3"
  },
  "language_info": {
   "codemirror_mode": {
    "name": "ipython",
    "version": 3
   },
   "file_extension": ".py",
   "mimetype": "text/x-python",
   "name": "python",
   "nbconvert_exporter": "python",
   "pygments_lexer": "ipython3",
   "version": "3.8.8"
  }
 },
 "nbformat": 4,
 "nbformat_minor": 5
}
